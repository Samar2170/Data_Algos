{
 "cells": [
  {
   "cell_type": "code",
   "execution_count": 1,
   "metadata": {},
   "outputs": [],
   "source": [
    "import pandas as pd\n",
    "import os"
   ]
  },
  {
   "cell_type": "code",
   "execution_count": 2,
   "metadata": {},
   "outputs": [],
   "source": [
    "def clean_brokers(co):\n",
    "    df = pd.read_csv(f'../NSE/Brokers/{co}_brokers.csv')\n",
    "    df['rec_price']=df['rec_price'].str.replace('Reco Price','')\n",
    "    df['trgt_price']=df['trgt_price'].str.replace('Target Price','')\n",
    "    \n",
    "    df['rec_price']=df['rec_price'].astype(float)\n",
    "    df['trgt_price']=df['trgt_price'].astype(float)\n",
    "    \n",
    "    df['rate'] =df['trgt_price']/ df['rec_price'] -1\n",
    "    \n",
    "    recm_dict = ['BUY', 'ACCUMULATE','HOLD','SELL', 'NEUTRAL','REDUCE', '-']"
   ]
  },
  {
   "cell_type": "code",
   "execution_count": 11,
   "metadata": {},
   "outputs": [],
   "source": [
    "def get_actions():\n",
    "    aca = []\n",
    "    co_df = pd.read_csv('../nifty500list.csv')\n",
    "    for i,r in co_df.iterrows():\n",
    "        try:\n",
    "            co = r['Symbol']\n",
    "            df = pd.read_csv(f'../NSE/Brokers/{co}_brokers.csv')\n",
    "            if len(df) == 0:\n",
    "                pass\n",
    "            else:\n",
    "                d = df['recm']\n",
    "                for vals in d:\n",
    "                    aca.append(d)\n",
    "                    \n",
    "        except FileNotFoundError:\n",
    "            pass   \n",
    "    return aca"
   ]
  },
  {
   "cell_type": "code",
   "execution_count": 19,
   "metadata": {},
   "outputs": [],
   "source": [
    "aac = get_actions()"
   ]
  },
  {
   "cell_type": "code",
   "execution_count": 20,
   "metadata": {},
   "outputs": [
    {
     "data": {
      "text/plain": [
       "list"
      ]
     },
     "execution_count": 20,
     "metadata": {},
     "output_type": "execute_result"
    }
   ],
   "source": [
    "type(aac)"
   ]
  },
  {
   "cell_type": "code",
   "execution_count": 21,
   "metadata": {},
   "outputs": [],
   "source": [
    "aac = pd.Series(aac)"
   ]
  },
  {
   "cell_type": "code",
   "execution_count": 24,
   "metadata": {},
   "outputs": [
    {
     "name": "stderr",
     "output_type": "stream",
     "text": [
      "<ipython-input-24-e870d75870ac>:1: FutureWarning: The default value of regex will change from True to False in a future version.\n",
      "  aac.str.replace('\\d', '')\n"
     ]
    },
    {
     "data": {
      "text/plain": [
       "0     NaN\n",
       "1     NaN\n",
       "2     NaN\n",
       "3     NaN\n",
       "4     NaN\n",
       "       ..\n",
       "912   NaN\n",
       "913   NaN\n",
       "914   NaN\n",
       "915   NaN\n",
       "916   NaN\n",
       "Length: 917, dtype: float64"
      ]
     },
     "execution_count": 24,
     "metadata": {},
     "output_type": "execute_result"
    }
   ],
   "source": [
    "aac.str.replace('\\d', '')"
   ]
  },
  {
   "cell_type": "code",
   "execution_count": 25,
   "metadata": {},
   "outputs": [
    {
     "data": {
      "text/plain": [
       "0      0    ACCUMULATE\n",
       "1           BUY\n",
       "2    ACCUMULAT...\n",
       "1      0    ACCUMULATE\n",
       "1           BUY\n",
       "2    ACCUMULAT...\n",
       "2      0    ACCUMULATE\n",
       "1           BUY\n",
       "2    ACCUMULAT...\n",
       "3      0    ACCUMULATE\n",
       "1           BUY\n",
       "2    ACCUMULAT...\n",
       "4      0    ACCUMULATE\n",
       "1           BUY\n",
       "2    ACCUMULAT...\n",
       "                             ...                        \n",
       "912    0       HOLD\n",
       "1        BUY\n",
       "2       HOLD\n",
       "3    NE...\n",
       "913    0       HOLD\n",
       "1        BUY\n",
       "2       HOLD\n",
       "3    NE...\n",
       "914    0     BUY\n",
       "1    HOLD\n",
       "2     BUY\n",
       "Name: recm, dtyp...\n",
       "915    0     BUY\n",
       "1    HOLD\n",
       "2     BUY\n",
       "Name: recm, dtyp...\n",
       "916    0     BUY\n",
       "1    HOLD\n",
       "2     BUY\n",
       "Name: recm, dtyp...\n",
       "Length: 917, dtype: object"
      ]
     },
     "execution_count": 25,
     "metadata": {},
     "output_type": "execute_result"
    }
   ],
   "source": [
    "aac"
   ]
  },
  {
   "cell_type": "code",
   "execution_count": null,
   "metadata": {},
   "outputs": [],
   "source": []
  }
 ],
 "metadata": {
  "kernelspec": {
   "display_name": "Python 3",
   "language": "python",
   "name": "python3"
  },
  "language_info": {
   "codemirror_mode": {
    "name": "ipython",
    "version": 3
   },
   "file_extension": ".py",
   "mimetype": "text/x-python",
   "name": "python",
   "nbconvert_exporter": "python",
   "pygments_lexer": "ipython3",
   "version": "3.8.5"
  }
 },
 "nbformat": 4,
 "nbformat_minor": 4
}
