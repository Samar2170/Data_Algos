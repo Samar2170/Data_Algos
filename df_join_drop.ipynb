{
 "cells": [
  {
   "cell_type": "code",
   "execution_count": 1,
   "metadata": {},
   "outputs": [],
   "source": [
    "import pandas as pd"
   ]
  },
  {
   "cell_type": "code",
   "execution_count": 3,
   "metadata": {},
   "outputs": [],
   "source": [
    "import os"
   ]
  },
  {
   "cell_type": "code",
   "execution_count": 7,
   "metadata": {},
   "outputs": [],
   "source": [
    "os.chdir('/home/samar/')"
   ]
  },
  {
   "cell_type": "code",
   "execution_count": 8,
   "metadata": {},
   "outputs": [],
   "source": [
    "df = pd.read_csv('HOMERRR/FRED/M/bop_trade_deficit.csv')"
   ]
  },
  {
   "cell_type": "code",
   "execution_count": 9,
   "metadata": {},
   "outputs": [
    {
     "data": {
      "text/html": [
       "<div>\n",
       "<style scoped>\n",
       "    .dataframe tbody tr th:only-of-type {\n",
       "        vertical-align: middle;\n",
       "    }\n",
       "\n",
       "    .dataframe tbody tr th {\n",
       "        vertical-align: top;\n",
       "    }\n",
       "\n",
       "    .dataframe thead th {\n",
       "        text-align: right;\n",
       "    }\n",
       "</style>\n",
       "<table border=\"1\" class=\"dataframe\">\n",
       "  <thead>\n",
       "    <tr style=\"text-align: right;\">\n",
       "      <th></th>\n",
       "      <th>Unnamed: 0</th>\n",
       "      <th>realtime_start</th>\n",
       "      <th>realtime_end</th>\n",
       "      <th>date</th>\n",
       "      <th>value</th>\n",
       "    </tr>\n",
       "  </thead>\n",
       "  <tbody>\n",
       "    <tr>\n",
       "      <th>0</th>\n",
       "      <td>0</td>\n",
       "      <td>1997-01-17</td>\n",
       "      <td>1997-06-18</td>\n",
       "      <td>1992-01-01</td>\n",
       "      <td>-2031.0</td>\n",
       "    </tr>\n",
       "    <tr>\n",
       "      <th>1</th>\n",
       "      <td>1</td>\n",
       "      <td>1997-06-19</td>\n",
       "      <td>1998-06-17</td>\n",
       "      <td>1992-01-01</td>\n",
       "      <td>-2115.0</td>\n",
       "    </tr>\n",
       "    <tr>\n",
       "      <th>2</th>\n",
       "      <td>2</td>\n",
       "      <td>1998-06-18</td>\n",
       "      <td>1999-06-16</td>\n",
       "      <td>1992-01-01</td>\n",
       "      <td>-2087.0</td>\n",
       "    </tr>\n",
       "    <tr>\n",
       "      <th>3</th>\n",
       "      <td>3</td>\n",
       "      <td>1999-06-17</td>\n",
       "      <td>2000-06-19</td>\n",
       "      <td>1992-01-01</td>\n",
       "      <td>-1936.0</td>\n",
       "    </tr>\n",
       "    <tr>\n",
       "      <th>4</th>\n",
       "      <td>4</td>\n",
       "      <td>2000-06-20</td>\n",
       "      <td>2001-06-20</td>\n",
       "      <td>1992-01-01</td>\n",
       "      <td>-1824.0</td>\n",
       "    </tr>\n",
       "  </tbody>\n",
       "</table>\n",
       "</div>"
      ],
      "text/plain": [
       "   Unnamed: 0 realtime_start realtime_end        date   value\n",
       "0           0     1997-01-17   1997-06-18  1992-01-01 -2031.0\n",
       "1           1     1997-06-19   1998-06-17  1992-01-01 -2115.0\n",
       "2           2     1998-06-18   1999-06-16  1992-01-01 -2087.0\n",
       "3           3     1999-06-17   2000-06-19  1992-01-01 -1936.0\n",
       "4           4     2000-06-20   2001-06-20  1992-01-01 -1824.0"
      ]
     },
     "execution_count": 9,
     "metadata": {},
     "output_type": "execute_result"
    }
   ],
   "source": [
    "df.head()"
   ]
  },
  {
   "cell_type": "code",
   "execution_count": 11,
   "metadata": {},
   "outputs": [],
   "source": [
    "df.set_index('date', inplace=True)"
   ]
  },
  {
   "cell_type": "code",
   "execution_count": 12,
   "metadata": {},
   "outputs": [],
   "source": [
    "df2 = pd.read_csv('HOMERRR/FRED/M/m3_tbill.csv')"
   ]
  },
  {
   "cell_type": "code",
   "execution_count": 15,
   "metadata": {},
   "outputs": [],
   "source": [
    "df2 = df2['value']"
   ]
  },
  {
   "cell_type": "code",
   "execution_count": 20,
   "metadata": {},
   "outputs": [],
   "source": [
    "df2 = pd.read_csv('HOMERRR/FRED/M/m3_tbill.csv')\n",
    "\n"
   ]
  },
  {
   "cell_type": "code",
   "execution_count": 22,
   "metadata": {},
   "outputs": [],
   "source": [
    "df2.set_index('date', inplace=True)"
   ]
  },
  {
   "cell_type": "code",
   "execution_count": 29,
   "metadata": {},
   "outputs": [],
   "source": [
    "df3 = df.join(df2,on='date', how='outer', rsuffix='value2')"
   ]
  },
  {
   "cell_type": "code",
   "execution_count": 30,
   "metadata": {},
   "outputs": [
    {
     "data": {
      "text/html": [
       "<div>\n",
       "<style scoped>\n",
       "    .dataframe tbody tr th:only-of-type {\n",
       "        vertical-align: middle;\n",
       "    }\n",
       "\n",
       "    .dataframe tbody tr th {\n",
       "        vertical-align: top;\n",
       "    }\n",
       "\n",
       "    .dataframe thead th {\n",
       "        text-align: right;\n",
       "    }\n",
       "</style>\n",
       "<table border=\"1\" class=\"dataframe\">\n",
       "  <thead>\n",
       "    <tr style=\"text-align: right;\">\n",
       "      <th></th>\n",
       "      <th>date</th>\n",
       "      <th>Unnamed: 0</th>\n",
       "      <th>realtime_start</th>\n",
       "      <th>realtime_end</th>\n",
       "      <th>value</th>\n",
       "      <th>Unnamed: 0value2</th>\n",
       "      <th>realtime_startvalue2</th>\n",
       "      <th>realtime_endvalue2</th>\n",
       "      <th>valuevalue2</th>\n",
       "    </tr>\n",
       "  </thead>\n",
       "  <tbody>\n",
       "    <tr>\n",
       "      <th>1992-01-01</th>\n",
       "      <td>1992-01-01</td>\n",
       "      <td>0.0</td>\n",
       "      <td>1997-01-17</td>\n",
       "      <td>1997-06-18</td>\n",
       "      <td>-2031.0</td>\n",
       "      <td>696</td>\n",
       "      <td>1996-12-03</td>\n",
       "      <td>9999-12-31</td>\n",
       "      <td>3.8</td>\n",
       "    </tr>\n",
       "    <tr>\n",
       "      <th>1992-01-01</th>\n",
       "      <td>1992-01-01</td>\n",
       "      <td>1.0</td>\n",
       "      <td>1997-06-19</td>\n",
       "      <td>1998-06-17</td>\n",
       "      <td>-2115.0</td>\n",
       "      <td>696</td>\n",
       "      <td>1996-12-03</td>\n",
       "      <td>9999-12-31</td>\n",
       "      <td>3.8</td>\n",
       "    </tr>\n",
       "    <tr>\n",
       "      <th>1992-01-01</th>\n",
       "      <td>1992-01-01</td>\n",
       "      <td>2.0</td>\n",
       "      <td>1998-06-18</td>\n",
       "      <td>1999-06-16</td>\n",
       "      <td>-2087.0</td>\n",
       "      <td>696</td>\n",
       "      <td>1996-12-03</td>\n",
       "      <td>9999-12-31</td>\n",
       "      <td>3.8</td>\n",
       "    </tr>\n",
       "    <tr>\n",
       "      <th>1992-01-01</th>\n",
       "      <td>1992-01-01</td>\n",
       "      <td>3.0</td>\n",
       "      <td>1999-06-17</td>\n",
       "      <td>2000-06-19</td>\n",
       "      <td>-1936.0</td>\n",
       "      <td>696</td>\n",
       "      <td>1996-12-03</td>\n",
       "      <td>9999-12-31</td>\n",
       "      <td>3.8</td>\n",
       "    </tr>\n",
       "    <tr>\n",
       "      <th>1992-01-01</th>\n",
       "      <td>1992-01-01</td>\n",
       "      <td>4.0</td>\n",
       "      <td>2000-06-20</td>\n",
       "      <td>2001-06-20</td>\n",
       "      <td>-1824.0</td>\n",
       "      <td>696</td>\n",
       "      <td>1996-12-03</td>\n",
       "      <td>9999-12-31</td>\n",
       "      <td>3.8</td>\n",
       "    </tr>\n",
       "  </tbody>\n",
       "</table>\n",
       "</div>"
      ],
      "text/plain": [
       "                  date  Unnamed: 0 realtime_start realtime_end   value  \\\n",
       "1992-01-01  1992-01-01         0.0     1997-01-17   1997-06-18 -2031.0   \n",
       "1992-01-01  1992-01-01         1.0     1997-06-19   1998-06-17 -2115.0   \n",
       "1992-01-01  1992-01-01         2.0     1998-06-18   1999-06-16 -2087.0   \n",
       "1992-01-01  1992-01-01         3.0     1999-06-17   2000-06-19 -1936.0   \n",
       "1992-01-01  1992-01-01         4.0     2000-06-20   2001-06-20 -1824.0   \n",
       "\n",
       "            Unnamed: 0value2 realtime_startvalue2 realtime_endvalue2  \\\n",
       "1992-01-01               696           1996-12-03         9999-12-31   \n",
       "1992-01-01               696           1996-12-03         9999-12-31   \n",
       "1992-01-01               696           1996-12-03         9999-12-31   \n",
       "1992-01-01               696           1996-12-03         9999-12-31   \n",
       "1992-01-01               696           1996-12-03         9999-12-31   \n",
       "\n",
       "            valuevalue2  \n",
       "1992-01-01          3.8  \n",
       "1992-01-01          3.8  \n",
       "1992-01-01          3.8  \n",
       "1992-01-01          3.8  \n",
       "1992-01-01          3.8  "
      ]
     },
     "execution_count": 30,
     "metadata": {},
     "output_type": "execute_result"
    }
   ],
   "source": [
    "df3.head()"
   ]
  },
  {
   "cell_type": "code",
   "execution_count": 31,
   "metadata": {},
   "outputs": [],
   "source": [
    "df3.to_csv('test_join.csv')"
   ]
  },
  {
   "cell_type": "code",
   "execution_count": 35,
   "metadata": {},
   "outputs": [],
   "source": [
    "df3=df3.drop(columns=['realtime_start','realtime_end'])"
   ]
  },
  {
   "cell_type": "code",
   "execution_count": 36,
   "metadata": {},
   "outputs": [
    {
     "data": {
      "text/html": [
       "<div>\n",
       "<style scoped>\n",
       "    .dataframe tbody tr th:only-of-type {\n",
       "        vertical-align: middle;\n",
       "    }\n",
       "\n",
       "    .dataframe tbody tr th {\n",
       "        vertical-align: top;\n",
       "    }\n",
       "\n",
       "    .dataframe thead th {\n",
       "        text-align: right;\n",
       "    }\n",
       "</style>\n",
       "<table border=\"1\" class=\"dataframe\">\n",
       "  <thead>\n",
       "    <tr style=\"text-align: right;\">\n",
       "      <th></th>\n",
       "      <th>date</th>\n",
       "      <th>Unnamed: 0</th>\n",
       "      <th>value</th>\n",
       "      <th>Unnamed: 0value2</th>\n",
       "      <th>realtime_startvalue2</th>\n",
       "      <th>realtime_endvalue2</th>\n",
       "      <th>valuevalue2</th>\n",
       "    </tr>\n",
       "  </thead>\n",
       "  <tbody>\n",
       "    <tr>\n",
       "      <th>1992-01-01</th>\n",
       "      <td>1992-01-01</td>\n",
       "      <td>0.0</td>\n",
       "      <td>-2031.0</td>\n",
       "      <td>696</td>\n",
       "      <td>1996-12-03</td>\n",
       "      <td>9999-12-31</td>\n",
       "      <td>3.8</td>\n",
       "    </tr>\n",
       "    <tr>\n",
       "      <th>1992-01-01</th>\n",
       "      <td>1992-01-01</td>\n",
       "      <td>1.0</td>\n",
       "      <td>-2115.0</td>\n",
       "      <td>696</td>\n",
       "      <td>1996-12-03</td>\n",
       "      <td>9999-12-31</td>\n",
       "      <td>3.8</td>\n",
       "    </tr>\n",
       "    <tr>\n",
       "      <th>1992-01-01</th>\n",
       "      <td>1992-01-01</td>\n",
       "      <td>2.0</td>\n",
       "      <td>-2087.0</td>\n",
       "      <td>696</td>\n",
       "      <td>1996-12-03</td>\n",
       "      <td>9999-12-31</td>\n",
       "      <td>3.8</td>\n",
       "    </tr>\n",
       "    <tr>\n",
       "      <th>1992-01-01</th>\n",
       "      <td>1992-01-01</td>\n",
       "      <td>3.0</td>\n",
       "      <td>-1936.0</td>\n",
       "      <td>696</td>\n",
       "      <td>1996-12-03</td>\n",
       "      <td>9999-12-31</td>\n",
       "      <td>3.8</td>\n",
       "    </tr>\n",
       "    <tr>\n",
       "      <th>1992-01-01</th>\n",
       "      <td>1992-01-01</td>\n",
       "      <td>4.0</td>\n",
       "      <td>-1824.0</td>\n",
       "      <td>696</td>\n",
       "      <td>1996-12-03</td>\n",
       "      <td>9999-12-31</td>\n",
       "      <td>3.8</td>\n",
       "    </tr>\n",
       "  </tbody>\n",
       "</table>\n",
       "</div>"
      ],
      "text/plain": [
       "                  date  Unnamed: 0   value  Unnamed: 0value2  \\\n",
       "1992-01-01  1992-01-01         0.0 -2031.0               696   \n",
       "1992-01-01  1992-01-01         1.0 -2115.0               696   \n",
       "1992-01-01  1992-01-01         2.0 -2087.0               696   \n",
       "1992-01-01  1992-01-01         3.0 -1936.0               696   \n",
       "1992-01-01  1992-01-01         4.0 -1824.0               696   \n",
       "\n",
       "           realtime_startvalue2 realtime_endvalue2  valuevalue2  \n",
       "1992-01-01           1996-12-03         9999-12-31          3.8  \n",
       "1992-01-01           1996-12-03         9999-12-31          3.8  \n",
       "1992-01-01           1996-12-03         9999-12-31          3.8  \n",
       "1992-01-01           1996-12-03         9999-12-31          3.8  \n",
       "1992-01-01           1996-12-03         9999-12-31          3.8  "
      ]
     },
     "execution_count": 36,
     "metadata": {},
     "output_type": "execute_result"
    }
   ],
   "source": [
    "df3.head()"
   ]
  },
  {
   "cell_type": "code",
   "execution_count": 37,
   "metadata": {},
   "outputs": [],
   "source": [
    "df3=df3.drop(columns=['realtime_startvalue2','realtime_endvalue2'])"
   ]
  },
  {
   "cell_type": "code",
   "execution_count": 38,
   "metadata": {},
   "outputs": [
    {
     "data": {
      "text/html": [
       "<div>\n",
       "<style scoped>\n",
       "    .dataframe tbody tr th:only-of-type {\n",
       "        vertical-align: middle;\n",
       "    }\n",
       "\n",
       "    .dataframe tbody tr th {\n",
       "        vertical-align: top;\n",
       "    }\n",
       "\n",
       "    .dataframe thead th {\n",
       "        text-align: right;\n",
       "    }\n",
       "</style>\n",
       "<table border=\"1\" class=\"dataframe\">\n",
       "  <thead>\n",
       "    <tr style=\"text-align: right;\">\n",
       "      <th></th>\n",
       "      <th>date</th>\n",
       "      <th>Unnamed: 0</th>\n",
       "      <th>value</th>\n",
       "      <th>Unnamed: 0value2</th>\n",
       "      <th>valuevalue2</th>\n",
       "    </tr>\n",
       "  </thead>\n",
       "  <tbody>\n",
       "    <tr>\n",
       "      <th>1992-01-01</th>\n",
       "      <td>1992-01-01</td>\n",
       "      <td>0.0</td>\n",
       "      <td>-2031.0</td>\n",
       "      <td>696</td>\n",
       "      <td>3.8</td>\n",
       "    </tr>\n",
       "    <tr>\n",
       "      <th>1992-01-01</th>\n",
       "      <td>1992-01-01</td>\n",
       "      <td>1.0</td>\n",
       "      <td>-2115.0</td>\n",
       "      <td>696</td>\n",
       "      <td>3.8</td>\n",
       "    </tr>\n",
       "    <tr>\n",
       "      <th>1992-01-01</th>\n",
       "      <td>1992-01-01</td>\n",
       "      <td>2.0</td>\n",
       "      <td>-2087.0</td>\n",
       "      <td>696</td>\n",
       "      <td>3.8</td>\n",
       "    </tr>\n",
       "    <tr>\n",
       "      <th>1992-01-01</th>\n",
       "      <td>1992-01-01</td>\n",
       "      <td>3.0</td>\n",
       "      <td>-1936.0</td>\n",
       "      <td>696</td>\n",
       "      <td>3.8</td>\n",
       "    </tr>\n",
       "    <tr>\n",
       "      <th>1992-01-01</th>\n",
       "      <td>1992-01-01</td>\n",
       "      <td>4.0</td>\n",
       "      <td>-1824.0</td>\n",
       "      <td>696</td>\n",
       "      <td>3.8</td>\n",
       "    </tr>\n",
       "  </tbody>\n",
       "</table>\n",
       "</div>"
      ],
      "text/plain": [
       "                  date  Unnamed: 0   value  Unnamed: 0value2  valuevalue2\n",
       "1992-01-01  1992-01-01         0.0 -2031.0               696          3.8\n",
       "1992-01-01  1992-01-01         1.0 -2115.0               696          3.8\n",
       "1992-01-01  1992-01-01         2.0 -2087.0               696          3.8\n",
       "1992-01-01  1992-01-01         3.0 -1936.0               696          3.8\n",
       "1992-01-01  1992-01-01         4.0 -1824.0               696          3.8"
      ]
     },
     "execution_count": 38,
     "metadata": {},
     "output_type": "execute_result"
    }
   ],
   "source": [
    "df3.head()"
   ]
  },
  {
   "cell_type": "code",
   "execution_count": 39,
   "metadata": {},
   "outputs": [],
   "source": [
    "df3=df3.drop(columns = ['Unnamed: 0', 'Unnamed: 0value2'])"
   ]
  },
  {
   "cell_type": "code",
   "execution_count": 40,
   "metadata": {},
   "outputs": [
    {
     "data": {
      "text/html": [
       "<div>\n",
       "<style scoped>\n",
       "    .dataframe tbody tr th:only-of-type {\n",
       "        vertical-align: middle;\n",
       "    }\n",
       "\n",
       "    .dataframe tbody tr th {\n",
       "        vertical-align: top;\n",
       "    }\n",
       "\n",
       "    .dataframe thead th {\n",
       "        text-align: right;\n",
       "    }\n",
       "</style>\n",
       "<table border=\"1\" class=\"dataframe\">\n",
       "  <thead>\n",
       "    <tr style=\"text-align: right;\">\n",
       "      <th></th>\n",
       "      <th>date</th>\n",
       "      <th>value</th>\n",
       "      <th>valuevalue2</th>\n",
       "    </tr>\n",
       "  </thead>\n",
       "  <tbody>\n",
       "    <tr>\n",
       "      <th>1992-01-01</th>\n",
       "      <td>1992-01-01</td>\n",
       "      <td>-2031.0</td>\n",
       "      <td>3.8</td>\n",
       "    </tr>\n",
       "    <tr>\n",
       "      <th>1992-01-01</th>\n",
       "      <td>1992-01-01</td>\n",
       "      <td>-2115.0</td>\n",
       "      <td>3.8</td>\n",
       "    </tr>\n",
       "    <tr>\n",
       "      <th>1992-01-01</th>\n",
       "      <td>1992-01-01</td>\n",
       "      <td>-2087.0</td>\n",
       "      <td>3.8</td>\n",
       "    </tr>\n",
       "    <tr>\n",
       "      <th>1992-01-01</th>\n",
       "      <td>1992-01-01</td>\n",
       "      <td>-1936.0</td>\n",
       "      <td>3.8</td>\n",
       "    </tr>\n",
       "    <tr>\n",
       "      <th>1992-01-01</th>\n",
       "      <td>1992-01-01</td>\n",
       "      <td>-1824.0</td>\n",
       "      <td>3.8</td>\n",
       "    </tr>\n",
       "  </tbody>\n",
       "</table>\n",
       "</div>"
      ],
      "text/plain": [
       "                  date   value  valuevalue2\n",
       "1992-01-01  1992-01-01 -2031.0          3.8\n",
       "1992-01-01  1992-01-01 -2115.0          3.8\n",
       "1992-01-01  1992-01-01 -2087.0          3.8\n",
       "1992-01-01  1992-01-01 -1936.0          3.8\n",
       "1992-01-01  1992-01-01 -1824.0          3.8"
      ]
     },
     "execution_count": 40,
     "metadata": {},
     "output_type": "execute_result"
    }
   ],
   "source": [
    "df3.head()"
   ]
  },
  {
   "cell_type": "code",
   "execution_count": 41,
   "metadata": {},
   "outputs": [],
   "source": [
    "df1 = pd.read_csv('HOMERRR/FRED/M/iip.csv')\n"
   ]
  },
  {
   "cell_type": "code",
   "execution_count": 42,
   "metadata": {},
   "outputs": [],
   "source": [
    "df2 = pd.read_csv('HOMERRR/FRED/M/us10y_cm.csv')"
   ]
  },
  {
   "cell_type": "code",
   "execution_count": 44,
   "metadata": {},
   "outputs": [],
   "source": [
    "df1.set_index('date',inplace=True)\n",
    "df2.set_index('date',inplace=True)"
   ]
  },
  {
   "cell_type": "code",
   "execution_count": 46,
   "metadata": {},
   "outputs": [],
   "source": [
    "df3 = df1.join(df2,on='date', how='outer', rsuffix='_df2')"
   ]
  },
  {
   "cell_type": "code",
   "execution_count": 47,
   "metadata": {},
   "outputs": [
    {
     "data": {
      "text/html": [
       "<div>\n",
       "<style scoped>\n",
       "    .dataframe tbody tr th:only-of-type {\n",
       "        vertical-align: middle;\n",
       "    }\n",
       "\n",
       "    .dataframe tbody tr th {\n",
       "        vertical-align: top;\n",
       "    }\n",
       "\n",
       "    .dataframe thead th {\n",
       "        text-align: right;\n",
       "    }\n",
       "</style>\n",
       "<table border=\"1\" class=\"dataframe\">\n",
       "  <thead>\n",
       "    <tr style=\"text-align: right;\">\n",
       "      <th></th>\n",
       "      <th>date</th>\n",
       "      <th>value</th>\n",
       "      <th>value_df2</th>\n",
       "    </tr>\n",
       "  </thead>\n",
       "  <tbody>\n",
       "    <tr>\n",
       "      <th>1919-01-01</th>\n",
       "      <td>1919-01-01</td>\n",
       "      <td>4.7770</td>\n",
       "      <td>NaN</td>\n",
       "    </tr>\n",
       "    <tr>\n",
       "      <th>1919-01-01</th>\n",
       "      <td>1919-01-01</td>\n",
       "      <td>4.9512</td>\n",
       "      <td>NaN</td>\n",
       "    </tr>\n",
       "    <tr>\n",
       "      <th>1919-01-01</th>\n",
       "      <td>1919-01-01</td>\n",
       "      <td>4.9739</td>\n",
       "      <td>NaN</td>\n",
       "    </tr>\n",
       "    <tr>\n",
       "      <th>1919-01-01</th>\n",
       "      <td>1919-01-01</td>\n",
       "      <td>4.9504</td>\n",
       "      <td>NaN</td>\n",
       "    </tr>\n",
       "    <tr>\n",
       "      <th>1919-01-01</th>\n",
       "      <td>1919-01-01</td>\n",
       "      <td>4.9286</td>\n",
       "      <td>NaN</td>\n",
       "    </tr>\n",
       "    <tr>\n",
       "      <th>...</th>\n",
       "      <td>...</td>\n",
       "      <td>...</td>\n",
       "      <td>...</td>\n",
       "    </tr>\n",
       "    <tr>\n",
       "      <th>2021-01-01</th>\n",
       "      <td>2021-01-01</td>\n",
       "      <td>106.6941</td>\n",
       "      <td>1.08</td>\n",
       "    </tr>\n",
       "    <tr>\n",
       "      <th>2021-02-01</th>\n",
       "      <td>2021-02-01</td>\n",
       "      <td>104.9382</td>\n",
       "      <td>1.26</td>\n",
       "    </tr>\n",
       "    <tr>\n",
       "      <th>2021-02-01</th>\n",
       "      <td>2021-02-01</td>\n",
       "      <td>104.3827</td>\n",
       "      <td>1.26</td>\n",
       "    </tr>\n",
       "    <tr>\n",
       "      <th>2021-03-01</th>\n",
       "      <td>2021-03-01</td>\n",
       "      <td>105.7995</td>\n",
       "      <td>1.61</td>\n",
       "    </tr>\n",
       "    <tr>\n",
       "      <th>NaN</th>\n",
       "      <td>2021-04-01</td>\n",
       "      <td>NaN</td>\n",
       "      <td>1.64</td>\n",
       "    </tr>\n",
       "  </tbody>\n",
       "</table>\n",
       "<p>7355 rows × 3 columns</p>\n",
       "</div>"
      ],
      "text/plain": [
       "                  date     value  value_df2\n",
       "1919-01-01  1919-01-01    4.7770        NaN\n",
       "1919-01-01  1919-01-01    4.9512        NaN\n",
       "1919-01-01  1919-01-01    4.9739        NaN\n",
       "1919-01-01  1919-01-01    4.9504        NaN\n",
       "1919-01-01  1919-01-01    4.9286        NaN\n",
       "...                ...       ...        ...\n",
       "2021-01-01  2021-01-01  106.6941       1.08\n",
       "2021-02-01  2021-02-01  104.9382       1.26\n",
       "2021-02-01  2021-02-01  104.3827       1.26\n",
       "2021-03-01  2021-03-01  105.7995       1.61\n",
       "NaN         2021-04-01       NaN       1.64\n",
       "\n",
       "[7355 rows x 3 columns]"
      ]
     },
     "execution_count": 47,
     "metadata": {},
     "output_type": "execute_result"
    }
   ],
   "source": [
    "df3"
   ]
  },
  {
   "cell_type": "code",
   "execution_count": 48,
   "metadata": {},
   "outputs": [],
   "source": [
    "df3.to_csv('test_join.csv')"
   ]
  },
  {
   "cell_type": "code",
   "execution_count": 49,
   "metadata": {},
   "outputs": [],
   "source": [
    "df3.drop(columns='date', inplace=True)"
   ]
  },
  {
   "cell_type": "code",
   "execution_count": 51,
   "metadata": {},
   "outputs": [],
   "source": [
    "df3.to_csv('test_join.csv')"
   ]
  },
  {
   "cell_type": "code",
   "execution_count": null,
   "metadata": {},
   "outputs": [],
   "source": []
  }
 ],
 "metadata": {
  "kernelspec": {
   "display_name": "Python 3",
   "language": "python",
   "name": "python3"
  },
  "language_info": {
   "codemirror_mode": {
    "name": "ipython",
    "version": 3
   },
   "file_extension": ".py",
   "mimetype": "text/x-python",
   "name": "python",
   "nbconvert_exporter": "python",
   "pygments_lexer": "ipython3",
   "version": "3.8.5"
  }
 },
 "nbformat": 4,
 "nbformat_minor": 4
}
