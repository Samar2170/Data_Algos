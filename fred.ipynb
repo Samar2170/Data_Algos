{
 "cells": [
  {
   "cell_type": "code",
   "execution_count": 1,
   "metadata": {},
   "outputs": [],
   "source": [
    "import fred"
   ]
  },
  {
   "cell_type": "code",
   "execution_count": 2,
   "metadata": {},
   "outputs": [
    {
     "data": {
      "text/plain": [
       "<fred.core.Fred at 0x7fd7c005f550>"
      ]
     },
     "execution_count": 2,
     "metadata": {},
     "output_type": "execute_result"
    }
   ],
   "source": [
    "fred.key('103fe6a05fac1e7a52e99ebdba5257e6')"
   ]
  },
  {
   "cell_type": "code",
   "execution_count": 4,
   "metadata": {},
   "outputs": [
    {
     "data": {
      "text/plain": [
       "{'categories': [{'id': 24, 'name': 'Monetary Data', 'parent_id': 32991}]}"
      ]
     },
     "execution_count": 4,
     "metadata": {},
     "output_type": "execute_result"
    }
   ],
   "source": [
    "fred.categories(24)"
   ]
  },
  {
   "cell_type": "code",
   "execution_count": 5,
   "metadata": {},
   "outputs": [
    {
     "data": {
      "text/plain": [
       "{'realtime_start': '2021-05-10',\n",
       " 'realtime_end': '2021-05-10',\n",
       " 'seriess': [{'id': 'UNRATENSA',\n",
       "   'realtime_start': '2021-05-10',\n",
       "   'realtime_end': '2021-05-10',\n",
       "   'title': 'Unemployment Rate',\n",
       "   'observation_start': '1948-01-01',\n",
       "   'observation_end': '2021-04-01',\n",
       "   'frequency': 'Monthly',\n",
       "   'frequency_short': 'M',\n",
       "   'units': 'Percent',\n",
       "   'units_short': '%',\n",
       "   'seasonal_adjustment': 'Not Seasonally Adjusted',\n",
       "   'seasonal_adjustment_short': 'NSA',\n",
       "   'last_updated': '2021-05-07 07:43:58-05',\n",
       "   'popularity': 63,\n",
       "   'notes': \"The unemployment rate represents the number of unemployed as a percentage of the labor force. Labor force data are restricted to people 16 years of age and older, who currently reside in 1 of the 50 states or the District of Columbia, who do not reside in institutions (e.g., penal and mental facilities, homes for the aged), and who are not on active duty in the Armed Forces.\\n\\nThis rate is also defined as the U-3 measure of labor underutilization.\\n\\nThe series comes from the 'Current Population Survey (Household Survey)'\\n\\nThe source code is: LNU04000000\"}]}"
      ]
     },
     "execution_count": 5,
     "metadata": {},
     "output_type": "execute_result"
    }
   ],
   "source": [
    "fred.series('UNRATENSA')"
   ]
  },
  {
   "cell_type": "code",
   "execution_count": 6,
   "metadata": {},
   "outputs": [],
   "source": [
    "import pandas as pd"
   ]
  },
  {
   "cell_type": "code",
   "execution_count": 7,
   "metadata": {},
   "outputs": [],
   "source": [
    "df = fred.observations('UNRATENSA')"
   ]
  },
  {
   "cell_type": "code",
   "execution_count": 9,
   "metadata": {},
   "outputs": [
    {
     "data": {
      "text/html": [
       "<div>\n",
       "<style scoped>\n",
       "    .dataframe tbody tr th:only-of-type {\n",
       "        vertical-align: middle;\n",
       "    }\n",
       "\n",
       "    .dataframe tbody tr th {\n",
       "        vertical-align: top;\n",
       "    }\n",
       "\n",
       "    .dataframe thead th {\n",
       "        text-align: right;\n",
       "    }\n",
       "</style>\n",
       "<table border=\"1\" class=\"dataframe\">\n",
       "  <thead>\n",
       "    <tr style=\"text-align: right;\">\n",
       "      <th></th>\n",
       "      <th>realtime_start</th>\n",
       "      <th>realtime_end</th>\n",
       "      <th>observation_start</th>\n",
       "      <th>observation_end</th>\n",
       "      <th>units</th>\n",
       "      <th>output_type</th>\n",
       "      <th>file_type</th>\n",
       "      <th>order_by</th>\n",
       "      <th>sort_order</th>\n",
       "      <th>count</th>\n",
       "      <th>offset</th>\n",
       "      <th>limit</th>\n",
       "      <th>observations</th>\n",
       "    </tr>\n",
       "  </thead>\n",
       "  <tbody>\n",
       "    <tr>\n",
       "      <th>0</th>\n",
       "      <td>2021-05-10</td>\n",
       "      <td>2021-05-10</td>\n",
       "      <td>1600-01-01</td>\n",
       "      <td>9999-12-31</td>\n",
       "      <td>lin</td>\n",
       "      <td>1</td>\n",
       "      <td>json</td>\n",
       "      <td>observation_date</td>\n",
       "      <td>asc</td>\n",
       "      <td>880</td>\n",
       "      <td>0</td>\n",
       "      <td>100000</td>\n",
       "      <td>{'realtime_start': '2021-05-10', 'realtime_end...</td>\n",
       "    </tr>\n",
       "    <tr>\n",
       "      <th>1</th>\n",
       "      <td>2021-05-10</td>\n",
       "      <td>2021-05-10</td>\n",
       "      <td>1600-01-01</td>\n",
       "      <td>9999-12-31</td>\n",
       "      <td>lin</td>\n",
       "      <td>1</td>\n",
       "      <td>json</td>\n",
       "      <td>observation_date</td>\n",
       "      <td>asc</td>\n",
       "      <td>880</td>\n",
       "      <td>0</td>\n",
       "      <td>100000</td>\n",
       "      <td>{'realtime_start': '2021-05-10', 'realtime_end...</td>\n",
       "    </tr>\n",
       "    <tr>\n",
       "      <th>2</th>\n",
       "      <td>2021-05-10</td>\n",
       "      <td>2021-05-10</td>\n",
       "      <td>1600-01-01</td>\n",
       "      <td>9999-12-31</td>\n",
       "      <td>lin</td>\n",
       "      <td>1</td>\n",
       "      <td>json</td>\n",
       "      <td>observation_date</td>\n",
       "      <td>asc</td>\n",
       "      <td>880</td>\n",
       "      <td>0</td>\n",
       "      <td>100000</td>\n",
       "      <td>{'realtime_start': '2021-05-10', 'realtime_end...</td>\n",
       "    </tr>\n",
       "    <tr>\n",
       "      <th>3</th>\n",
       "      <td>2021-05-10</td>\n",
       "      <td>2021-05-10</td>\n",
       "      <td>1600-01-01</td>\n",
       "      <td>9999-12-31</td>\n",
       "      <td>lin</td>\n",
       "      <td>1</td>\n",
       "      <td>json</td>\n",
       "      <td>observation_date</td>\n",
       "      <td>asc</td>\n",
       "      <td>880</td>\n",
       "      <td>0</td>\n",
       "      <td>100000</td>\n",
       "      <td>{'realtime_start': '2021-05-10', 'realtime_end...</td>\n",
       "    </tr>\n",
       "    <tr>\n",
       "      <th>4</th>\n",
       "      <td>2021-05-10</td>\n",
       "      <td>2021-05-10</td>\n",
       "      <td>1600-01-01</td>\n",
       "      <td>9999-12-31</td>\n",
       "      <td>lin</td>\n",
       "      <td>1</td>\n",
       "      <td>json</td>\n",
       "      <td>observation_date</td>\n",
       "      <td>asc</td>\n",
       "      <td>880</td>\n",
       "      <td>0</td>\n",
       "      <td>100000</td>\n",
       "      <td>{'realtime_start': '2021-05-10', 'realtime_end...</td>\n",
       "    </tr>\n",
       "  </tbody>\n",
       "</table>\n",
       "</div>"
      ],
      "text/plain": [
       "  realtime_start realtime_end observation_start observation_end units  \\\n",
       "0     2021-05-10   2021-05-10        1600-01-01      9999-12-31   lin   \n",
       "1     2021-05-10   2021-05-10        1600-01-01      9999-12-31   lin   \n",
       "2     2021-05-10   2021-05-10        1600-01-01      9999-12-31   lin   \n",
       "3     2021-05-10   2021-05-10        1600-01-01      9999-12-31   lin   \n",
       "4     2021-05-10   2021-05-10        1600-01-01      9999-12-31   lin   \n",
       "\n",
       "   output_type file_type          order_by sort_order  count  offset   limit  \\\n",
       "0            1      json  observation_date        asc    880       0  100000   \n",
       "1            1      json  observation_date        asc    880       0  100000   \n",
       "2            1      json  observation_date        asc    880       0  100000   \n",
       "3            1      json  observation_date        asc    880       0  100000   \n",
       "4            1      json  observation_date        asc    880       0  100000   \n",
       "\n",
       "                                        observations  \n",
       "0  {'realtime_start': '2021-05-10', 'realtime_end...  \n",
       "1  {'realtime_start': '2021-05-10', 'realtime_end...  \n",
       "2  {'realtime_start': '2021-05-10', 'realtime_end...  \n",
       "3  {'realtime_start': '2021-05-10', 'realtime_end...  \n",
       "4  {'realtime_start': '2021-05-10', 'realtime_end...  "
      ]
     },
     "execution_count": 9,
     "metadata": {},
     "output_type": "execute_result"
    }
   ],
   "source": [
    "df = pd.DataFrame(df)\n",
    "df.head()"
   ]
  },
  {
   "cell_type": "code",
   "execution_count": 10,
   "metadata": {},
   "outputs": [
    {
     "data": {
      "text/html": [
       "<div>\n",
       "<style scoped>\n",
       "    .dataframe tbody tr th:only-of-type {\n",
       "        vertical-align: middle;\n",
       "    }\n",
       "\n",
       "    .dataframe tbody tr th {\n",
       "        vertical-align: top;\n",
       "    }\n",
       "\n",
       "    .dataframe thead th {\n",
       "        text-align: right;\n",
       "    }\n",
       "</style>\n",
       "<table border=\"1\" class=\"dataframe\">\n",
       "  <thead>\n",
       "    <tr style=\"text-align: right;\">\n",
       "      <th></th>\n",
       "      <th>realtime_start</th>\n",
       "      <th>realtime_end</th>\n",
       "      <th>observation_start</th>\n",
       "      <th>observation_end</th>\n",
       "      <th>units</th>\n",
       "      <th>output_type</th>\n",
       "      <th>file_type</th>\n",
       "      <th>order_by</th>\n",
       "      <th>sort_order</th>\n",
       "      <th>count</th>\n",
       "      <th>offset</th>\n",
       "      <th>limit</th>\n",
       "      <th>observations</th>\n",
       "    </tr>\n",
       "  </thead>\n",
       "  <tbody>\n",
       "    <tr>\n",
       "      <th>875</th>\n",
       "      <td>2021-05-10</td>\n",
       "      <td>2021-05-10</td>\n",
       "      <td>1600-01-01</td>\n",
       "      <td>9999-12-31</td>\n",
       "      <td>lin</td>\n",
       "      <td>1</td>\n",
       "      <td>json</td>\n",
       "      <td>observation_date</td>\n",
       "      <td>asc</td>\n",
       "      <td>880</td>\n",
       "      <td>0</td>\n",
       "      <td>100000</td>\n",
       "      <td>{'realtime_start': '2021-05-10', 'realtime_end...</td>\n",
       "    </tr>\n",
       "    <tr>\n",
       "      <th>876</th>\n",
       "      <td>2021-05-10</td>\n",
       "      <td>2021-05-10</td>\n",
       "      <td>1600-01-01</td>\n",
       "      <td>9999-12-31</td>\n",
       "      <td>lin</td>\n",
       "      <td>1</td>\n",
       "      <td>json</td>\n",
       "      <td>observation_date</td>\n",
       "      <td>asc</td>\n",
       "      <td>880</td>\n",
       "      <td>0</td>\n",
       "      <td>100000</td>\n",
       "      <td>{'realtime_start': '2021-05-10', 'realtime_end...</td>\n",
       "    </tr>\n",
       "    <tr>\n",
       "      <th>877</th>\n",
       "      <td>2021-05-10</td>\n",
       "      <td>2021-05-10</td>\n",
       "      <td>1600-01-01</td>\n",
       "      <td>9999-12-31</td>\n",
       "      <td>lin</td>\n",
       "      <td>1</td>\n",
       "      <td>json</td>\n",
       "      <td>observation_date</td>\n",
       "      <td>asc</td>\n",
       "      <td>880</td>\n",
       "      <td>0</td>\n",
       "      <td>100000</td>\n",
       "      <td>{'realtime_start': '2021-05-10', 'realtime_end...</td>\n",
       "    </tr>\n",
       "    <tr>\n",
       "      <th>878</th>\n",
       "      <td>2021-05-10</td>\n",
       "      <td>2021-05-10</td>\n",
       "      <td>1600-01-01</td>\n",
       "      <td>9999-12-31</td>\n",
       "      <td>lin</td>\n",
       "      <td>1</td>\n",
       "      <td>json</td>\n",
       "      <td>observation_date</td>\n",
       "      <td>asc</td>\n",
       "      <td>880</td>\n",
       "      <td>0</td>\n",
       "      <td>100000</td>\n",
       "      <td>{'realtime_start': '2021-05-10', 'realtime_end...</td>\n",
       "    </tr>\n",
       "    <tr>\n",
       "      <th>879</th>\n",
       "      <td>2021-05-10</td>\n",
       "      <td>2021-05-10</td>\n",
       "      <td>1600-01-01</td>\n",
       "      <td>9999-12-31</td>\n",
       "      <td>lin</td>\n",
       "      <td>1</td>\n",
       "      <td>json</td>\n",
       "      <td>observation_date</td>\n",
       "      <td>asc</td>\n",
       "      <td>880</td>\n",
       "      <td>0</td>\n",
       "      <td>100000</td>\n",
       "      <td>{'realtime_start': '2021-05-10', 'realtime_end...</td>\n",
       "    </tr>\n",
       "  </tbody>\n",
       "</table>\n",
       "</div>"
      ],
      "text/plain": [
       "    realtime_start realtime_end observation_start observation_end units  \\\n",
       "875     2021-05-10   2021-05-10        1600-01-01      9999-12-31   lin   \n",
       "876     2021-05-10   2021-05-10        1600-01-01      9999-12-31   lin   \n",
       "877     2021-05-10   2021-05-10        1600-01-01      9999-12-31   lin   \n",
       "878     2021-05-10   2021-05-10        1600-01-01      9999-12-31   lin   \n",
       "879     2021-05-10   2021-05-10        1600-01-01      9999-12-31   lin   \n",
       "\n",
       "     output_type file_type          order_by sort_order  count  offset  \\\n",
       "875            1      json  observation_date        asc    880       0   \n",
       "876            1      json  observation_date        asc    880       0   \n",
       "877            1      json  observation_date        asc    880       0   \n",
       "878            1      json  observation_date        asc    880       0   \n",
       "879            1      json  observation_date        asc    880       0   \n",
       "\n",
       "      limit                                       observations  \n",
       "875  100000  {'realtime_start': '2021-05-10', 'realtime_end...  \n",
       "876  100000  {'realtime_start': '2021-05-10', 'realtime_end...  \n",
       "877  100000  {'realtime_start': '2021-05-10', 'realtime_end...  \n",
       "878  100000  {'realtime_start': '2021-05-10', 'realtime_end...  \n",
       "879  100000  {'realtime_start': '2021-05-10', 'realtime_end...  "
      ]
     },
     "execution_count": 10,
     "metadata": {},
     "output_type": "execute_result"
    }
   ],
   "source": [
    "df.tail()"
   ]
  },
  {
   "cell_type": "code",
   "execution_count": null,
   "metadata": {},
   "outputs": [],
   "source": []
  }
 ],
 "metadata": {
  "kernelspec": {
   "display_name": "Python 3",
   "language": "python",
   "name": "python3"
  },
  "language_info": {
   "codemirror_mode": {
    "name": "ipython",
    "version": 3
   },
   "file_extension": ".py",
   "mimetype": "text/x-python",
   "name": "python",
   "nbconvert_exporter": "python",
   "pygments_lexer": "ipython3",
   "version": "3.8.5"
  }
 },
 "nbformat": 4,
 "nbformat_minor": 4
}
