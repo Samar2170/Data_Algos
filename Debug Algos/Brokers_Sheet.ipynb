{
 "cells": [
  {
   "cell_type": "code",
   "execution_count": 15,
   "metadata": {},
   "outputs": [],
   "source": [
    "import pandas as pd"
   ]
  },
  {
   "cell_type": "code",
   "execution_count": 16,
   "metadata": {},
   "outputs": [],
   "source": [
    "df = pd.read_csv('NSE/Brokers/HDFCLIFE_brokers.csv')"
   ]
  },
  {
   "cell_type": "code",
   "execution_count": 17,
   "metadata": {},
   "outputs": [
    {
     "data": {
      "text/html": [
       "<div>\n",
       "<style scoped>\n",
       "    .dataframe tbody tr th:only-of-type {\n",
       "        vertical-align: middle;\n",
       "    }\n",
       "\n",
       "    .dataframe tbody tr th {\n",
       "        vertical-align: top;\n",
       "    }\n",
       "\n",
       "    .dataframe thead th {\n",
       "        text-align: right;\n",
       "    }\n",
       "</style>\n",
       "<table border=\"1\" class=\"dataframe\">\n",
       "  <thead>\n",
       "    <tr style=\"text-align: right;\">\n",
       "      <th></th>\n",
       "      <th>Unnamed: 0</th>\n",
       "      <th>date</th>\n",
       "      <th>recm</th>\n",
       "      <th>rec_price</th>\n",
       "      <th>trgt_price</th>\n",
       "    </tr>\n",
       "  </thead>\n",
       "  <tbody>\n",
       "    <tr>\n",
       "      <th>0</th>\n",
       "      <td>0</td>\n",
       "      <td>25 Jan, 2021</td>\n",
       "      <td>ACCUMULATE</td>\n",
       "      <td>Reco Price 680.40</td>\n",
       "      <td>Target Price 764</td>\n",
       "    </tr>\n",
       "    <tr>\n",
       "      <th>1</th>\n",
       "      <td>1</td>\n",
       "      <td>24 Jan, 2021</td>\n",
       "      <td>BUY</td>\n",
       "      <td>Reco Price 687.65</td>\n",
       "      <td>Target Price 820</td>\n",
       "    </tr>\n",
       "    <tr>\n",
       "      <th>2</th>\n",
       "      <td>2</td>\n",
       "      <td>22 Jan, 2021</td>\n",
       "      <td>BUY</td>\n",
       "      <td>Reco Price 687.65</td>\n",
       "      <td>Target Price 850</td>\n",
       "    </tr>\n",
       "    <tr>\n",
       "      <th>3</th>\n",
       "      <td>3</td>\n",
       "      <td>14 Jan, 2021</td>\n",
       "      <td>BUY</td>\n",
       "      <td>Reco Price 706.90</td>\n",
       "      <td>Target Price 850</td>\n",
       "    </tr>\n",
       "    <tr>\n",
       "      <th>4</th>\n",
       "      <td>4</td>\n",
       "      <td>07 Jan, 2021</td>\n",
       "      <td>BUY</td>\n",
       "      <td>Reco Price 704.35</td>\n",
       "      <td>Target Price 820</td>\n",
       "    </tr>\n",
       "  </tbody>\n",
       "</table>\n",
       "</div>"
      ],
      "text/plain": [
       "   Unnamed: 0          date        recm          rec_price        trgt_price\n",
       "0           0  25 Jan, 2021  ACCUMULATE  Reco Price 680.40  Target Price 764\n",
       "1           1  24 Jan, 2021         BUY  Reco Price 687.65  Target Price 820\n",
       "2           2  22 Jan, 2021         BUY  Reco Price 687.65  Target Price 850\n",
       "3           3  14 Jan, 2021         BUY  Reco Price 706.90  Target Price 850\n",
       "4           4  07 Jan, 2021         BUY  Reco Price 704.35  Target Price 820"
      ]
     },
     "execution_count": 17,
     "metadata": {},
     "output_type": "execute_result"
    }
   ],
   "source": [
    "df"
   ]
  },
  {
   "cell_type": "code",
   "execution_count": 18,
   "metadata": {},
   "outputs": [],
   "source": [
    "recm_dict = ['BUY', 'ACCUMULATE','HOLD','SELL']\n",
    "df['rec_price']=df['rec_price'].str.replace('Reco Price','')\n",
    "df['trgt_price']=df['trgt_price'].str.replace('Target Price','')"
   ]
  },
  {
   "cell_type": "code",
   "execution_count": 19,
   "metadata": {},
   "outputs": [],
   "source": [
    "df['rec_price']=df['rec_price'].astype(float)\n",
    "df['trgt_price']=df['trgt_price'].astype(float)\n"
   ]
  },
  {
   "cell_type": "code",
   "execution_count": 22,
   "metadata": {},
   "outputs": [],
   "source": [
    "df['rate'] =df['trgt_price']/ df['rec_price'] -1"
   ]
  },
  {
   "cell_type": "code",
   "execution_count": 23,
   "metadata": {},
   "outputs": [
    {
     "data": {
      "text/plain": [
       "0    0.122869\n",
       "1    0.192467\n",
       "2    0.236094\n",
       "3    0.202433\n",
       "4    0.164194\n",
       "Name: rate, dtype: float64"
      ]
     },
     "execution_count": 23,
     "metadata": {},
     "output_type": "execute_result"
    }
   ],
   "source": [
    "df['rate']"
   ]
  },
  {
   "cell_type": "code",
   "execution_count": null,
   "metadata": {},
   "outputs": [],
   "source": []
  }
 ],
 "metadata": {
  "kernelspec": {
   "display_name": "Python 3",
   "language": "python",
   "name": "python3"
  },
  "language_info": {
   "codemirror_mode": {
    "name": "ipython",
    "version": 3
   },
   "file_extension": ".py",
   "mimetype": "text/x-python",
   "name": "python",
   "nbconvert_exporter": "python",
   "pygments_lexer": "ipython3",
   "version": "3.8.5"
  }
 },
 "nbformat": 4,
 "nbformat_minor": 4
}
