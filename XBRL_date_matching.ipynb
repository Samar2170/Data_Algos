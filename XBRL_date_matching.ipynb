{
 "cells": [
  {
   "cell_type": "code",
   "execution_count": 1,
   "metadata": {},
   "outputs": [],
   "source": [
    "import json"
   ]
  },
  {
   "cell_type": "code",
   "execution_count": 2,
   "metadata": {},
   "outputs": [],
   "source": [
    "f = open('Siemens Limited_FR_31-Mar-2021_Consolidated.xml.json')"
   ]
  },
  {
   "cell_type": "code",
   "execution_count": 3,
   "metadata": {},
   "outputs": [],
   "source": [
    "f = json.load(f)"
   ]
  },
  {
   "cell_type": "code",
   "execution_count": 4,
   "metadata": {},
   "outputs": [],
   "source": [
    "f = json.loads(f)"
   ]
  },
  {
   "cell_type": "code",
   "execution_count": 6,
   "metadata": {},
   "outputs": [],
   "source": [
    "import re"
   ]
  },
  {
   "cell_type": "code",
   "execution_count": 7,
   "metadata": {},
   "outputs": [],
   "source": [
    "fn = 'Siemens Limited_FR_31-Mar-2021_Consolidated.xml.json'"
   ]
  },
  {
   "cell_type": "code",
   "execution_count": 9,
   "metadata": {},
   "outputs": [],
   "source": [
    "# regex testing\n",
    "\n",
    "pattern = '^a...s$'\n",
    "ts = 'abyss'\n",
    "result = re.match(pattern, ts)"
   ]
  },
  {
   "cell_type": "code",
   "execution_count": 11,
   "metadata": {},
   "outputs": [
    {
     "data": {
      "text/plain": [
       "'abyss'"
      ]
     },
     "execution_count": 11,
     "metadata": {},
     "output_type": "execute_result"
    }
   ],
   "source": [
    "result.group()"
   ]
  },
  {
   "cell_type": "code",
   "execution_count": 37,
   "metadata": {},
   "outputs": [],
   "source": [
    "pt = '[abc]'\n",
    "ts1 = 'a'\n",
    "ts2 = 'ac'\n",
    "ts3 = 'Hey Judfe'\n",
    "ts4 = 'abc de ca'\n",
    "ts = [ts1, ts2, ts3, ts4]"
   ]
  },
  {
   "cell_type": "code",
   "execution_count": 38,
   "metadata": {},
   "outputs": [
    {
     "name": "stdout",
     "output_type": "stream",
     "text": [
      "a\n"
     ]
    }
   ],
   "source": [
    "\n",
    "rs = re.match(pt,ts1)\n",
    "print(rs.group())"
   ]
  },
  {
   "cell_type": "code",
   "execution_count": 42,
   "metadata": {},
   "outputs": [
    {
     "data": {
      "text/plain": [
       "['a', 'c']"
      ]
     },
     "execution_count": 42,
     "metadata": {},
     "output_type": "execute_result"
    }
   ],
   "source": [
    "rs2 = re.findall(pt,ts2)\n",
    "rs2"
   ]
  },
  {
   "cell_type": "code",
   "execution_count": 43,
   "metadata": {},
   "outputs": [
    {
     "data": {
      "text/plain": [
       "['a', 'b', 'c', 'c', 'a']"
      ]
     },
     "execution_count": 43,
     "metadata": {},
     "output_type": "execute_result"
    }
   ],
   "source": [
    "rs2 = re.findall(pt,ts4)\n",
    "rs2"
   ]
  },
  {
   "cell_type": "code",
   "execution_count": 52,
   "metadata": {},
   "outputs": [],
   "source": [
    "mt = re.match(r'\\d\\d\\s(?:Jan|Feb|Mar|Apr|May|Jun|Jul|Aug|Sep|Oct|Nov|Dec)\\s\\d{4}', fn)"
   ]
  },
  {
   "cell_type": "code",
   "execution_count": 53,
   "metadata": {},
   "outputs": [
    {
     "ename": "AttributeError",
     "evalue": "'NoneType' object has no attribute 'group'",
     "output_type": "error",
     "traceback": [
      "\u001b[0;31m---------------------------------------------------------------------------\u001b[0m",
      "\u001b[0;31mAttributeError\u001b[0m                            Traceback (most recent call last)",
      "\u001b[0;32m<ipython-input-53-8ba1eaba36fc>\u001b[0m in \u001b[0;36m<module>\u001b[0;34m\u001b[0m\n\u001b[0;32m----> 1\u001b[0;31m \u001b[0mmt\u001b[0m\u001b[0;34m.\u001b[0m\u001b[0mgroup\u001b[0m\u001b[0;34m(\u001b[0m\u001b[0;34m)\u001b[0m\u001b[0;34m\u001b[0m\u001b[0;34m\u001b[0m\u001b[0m\n\u001b[0m",
      "\u001b[0;31mAttributeError\u001b[0m: 'NoneType' object has no attribute 'group'"
     ]
    }
   ],
   "source": [
    "mt.group()"
   ]
  },
  {
   "cell_type": "code",
   "execution_count": 50,
   "metadata": {},
   "outputs": [],
   "source": [
    "pt = re.compile(r'\\d{2}-\\w{3}-\\d{4}')\n",
    "mt = re.match(pt, fn)"
   ]
  },
  {
   "cell_type": "code",
   "execution_count": 54,
   "metadata": {},
   "outputs": [],
   "source": [
    "mt = re.search(\"([0-9]{2}\\-[a-z]{3}\\-[0-9]{4})\", fn)"
   ]
  },
  {
   "cell_type": "markdown",
   "metadata": {},
   "source": [
    "mt"
   ]
  },
  {
   "cell_type": "code",
   "execution_count": 55,
   "metadata": {},
   "outputs": [],
   "source": [
    "mt"
   ]
  },
  {
   "cell_type": "code",
   "execution_count": 66,
   "metadata": {},
   "outputs": [],
   "source": [
    "mt = re.search(\"([0-9]{2}-[A-z]{3}-[0-9]{4})\",'Siemens Limited_FR_31-Mar-2021_Consolidated.xml.json')"
   ]
  },
  {
   "cell_type": "markdown",
   "metadata": {},
   "source": []
  },
  {
   "cell_type": "code",
   "execution_count": 70,
   "metadata": {},
   "outputs": [],
   "source": [
    "m = mt.group()"
   ]
  },
  {
   "cell_type": "code",
   "execution_count": 74,
   "metadata": {},
   "outputs": [],
   "source": [
    "f['period'] = m"
   ]
  },
  {
   "cell_type": "code",
   "execution_count": 75,
   "metadata": {},
   "outputs": [],
   "source": [
    "import datetime as dt"
   ]
  },
  {
   "cell_type": "code",
   "execution_count": 79,
   "metadata": {},
   "outputs": [],
   "source": [
    "d  = pd.to_datetime(m)"
   ]
  },
  {
   "cell_type": "code",
   "execution_count": 80,
   "metadata": {},
   "outputs": [
    {
     "data": {
      "text/plain": [
       "Timestamp('2021-03-31 00:00:00')"
      ]
     },
     "execution_count": 80,
     "metadata": {},
     "output_type": "execute_result"
    }
   ],
   "source": [
    "d"
   ]
  },
  {
   "cell_type": "code",
   "execution_count": 81,
   "metadata": {},
   "outputs": [],
   "source": [
    "f['period']= d"
   ]
  },
  {
   "cell_type": "code",
   "execution_count": 82,
   "metadata": {},
   "outputs": [
    {
     "data": {
      "text/plain": [
       "Timestamp('2021-03-31 00:00:00')"
      ]
     },
     "execution_count": 82,
     "metadata": {},
     "output_type": "execute_result"
    }
   ],
   "source": [
    "f['period']"
   ]
  },
  {
   "cell_type": "code",
   "execution_count": 89,
   "metadata": {},
   "outputs": [],
   "source": [
    "df = pd.DataFrame(f, index=['period'])"
   ]
  },
  {
   "cell_type": "code",
   "execution_count": 85,
   "metadata": {},
   "outputs": [
    {
     "data": {
      "text/html": [
       "<div>\n",
       "<style scoped>\n",
       "    .dataframe tbody tr th:only-of-type {\n",
       "        vertical-align: middle;\n",
       "    }\n",
       "\n",
       "    .dataframe tbody tr th {\n",
       "        vertical-align: top;\n",
       "    }\n",
       "\n",
       "    .dataframe thead th {\n",
       "        text-align: right;\n",
       "    }\n",
       "</style>\n",
       "<table border=\"1\" class=\"dataframe\">\n",
       "  <thead>\n",
       "    <tr style=\"text-align: right;\">\n",
       "      <th></th>\n",
       "      <th>employeebenefitexpense</th>\n",
       "      <th>costofmaterialsconsumed</th>\n",
       "      <th>proceedsfromgovernmentgrantsclassifiedasinvestingactivities</th>\n",
       "      <th>otherincome</th>\n",
       "      <th>adjustmentsforfairvaluegainslosses</th>\n",
       "      <th>adjustmentsforincreasedecreaseintradepayablesnoncurrent</th>\n",
       "      <th>adjustmentsfordecreaseincreaseintradereceivablesnoncurrent</th>\n",
       "      <th>adjustmentsforsharebasedpayments</th>\n",
       "      <th>adjustmentsforundistributedprofitsofassociates</th>\n",
       "      <th>segmentassets</th>\n",
       "      <th>...</th>\n",
       "      <th>cashreceiptsfromrepaymentofadvancesandloansmadetootherpartiesclassifiedasinvestingactivit</th>\n",
       "      <th>repaymentsofborrowingsclassifiedasfinancingactivities</th>\n",
       "      <th>profitlossfromdiscontinuedoperationsaftertax</th>\n",
       "      <th>paidupvalueofequitysharecapital</th>\n",
       "      <th>proceedsfromborrowingsclassifiedasfinancingactivities</th>\n",
       "      <th>purchaseofpropertyplantandequipmentclassifiedasinvestingactivities</th>\n",
       "      <th>othercashreceiptsfromsalesofequityordebtinstrumentsofotherentitiesclassifiedasinvestingac</th>\n",
       "      <th>dividendsreceivedclassifiedasinvestingactivities</th>\n",
       "      <th>segmentrevenue</th>\n",
       "      <th>period</th>\n",
       "    </tr>\n",
       "  </thead>\n",
       "  <tbody>\n",
       "    <tr>\n",
       "      <th>period</th>\n",
       "      <td>7792000000.0</td>\n",
       "      <td>11688000000.0</td>\n",
       "      <td>0.0</td>\n",
       "      <td>1144000000.0</td>\n",
       "      <td>0.0</td>\n",
       "      <td>0.0</td>\n",
       "      <td>0.0</td>\n",
       "      <td>0.0</td>\n",
       "      <td>0.0</td>\n",
       "      <td>111584000000.0</td>\n",
       "      <td>...</td>\n",
       "      <td>2240000000.0</td>\n",
       "      <td>1190000000.0</td>\n",
       "      <td>403000000.0</td>\n",
       "      <td>712000000.0</td>\n",
       "      <td>0.0</td>\n",
       "      <td>599000000.0</td>\n",
       "      <td>0.0</td>\n",
       "      <td>0.0</td>\n",
       "      <td>66846000000.0</td>\n",
       "      <td>2021-03-31</td>\n",
       "    </tr>\n",
       "  </tbody>\n",
       "</table>\n",
       "<p>1 rows × 142 columns</p>\n",
       "</div>"
      ],
      "text/plain": [
       "       employeebenefitexpense costofmaterialsconsumed  \\\n",
       "period           7792000000.0           11688000000.0   \n",
       "\n",
       "       proceedsfromgovernmentgrantsclassifiedasinvestingactivities  \\\n",
       "period                                                0.0            \n",
       "\n",
       "         otherincome adjustmentsforfairvaluegainslosses  \\\n",
       "period  1144000000.0                                0.0   \n",
       "\n",
       "       adjustmentsforincreasedecreaseintradepayablesnoncurrent  \\\n",
       "period                                                0.0        \n",
       "\n",
       "       adjustmentsfordecreaseincreaseintradereceivablesnoncurrent  \\\n",
       "period                                                0.0           \n",
       "\n",
       "       adjustmentsforsharebasedpayments  \\\n",
       "period                              0.0   \n",
       "\n",
       "       adjustmentsforundistributedprofitsofassociates   segmentassets  ...  \\\n",
       "period                                            0.0  111584000000.0  ...   \n",
       "\n",
       "       cashreceiptsfromrepaymentofadvancesandloansmadetootherpartiesclassifiedasinvestingactivit  \\\n",
       "period                                       2240000000.0                                          \n",
       "\n",
       "       repaymentsofborrowingsclassifiedasfinancingactivities  \\\n",
       "period                                       1190000000.0      \n",
       "\n",
       "       profitlossfromdiscontinuedoperationsaftertax  \\\n",
       "period                                  403000000.0   \n",
       "\n",
       "       paidupvalueofequitysharecapital  \\\n",
       "period                     712000000.0   \n",
       "\n",
       "       proceedsfromborrowingsclassifiedasfinancingactivities  \\\n",
       "period                                                0.0      \n",
       "\n",
       "       purchaseofpropertyplantandequipmentclassifiedasinvestingactivities  \\\n",
       "period                                        599000000.0                   \n",
       "\n",
       "       othercashreceiptsfromsalesofequityordebtinstrumentsofotherentitiesclassifiedasinvestingac  \\\n",
       "period                                                0.0                                          \n",
       "\n",
       "       dividendsreceivedclassifiedasinvestingactivities segmentrevenue  \\\n",
       "period                                              0.0  66846000000.0   \n",
       "\n",
       "           period  \n",
       "period 2021-03-31  \n",
       "\n",
       "[1 rows x 142 columns]"
      ]
     },
     "execution_count": 85,
     "metadata": {},
     "output_type": "execute_result"
    }
   ],
   "source": [
    "df"
   ]
  },
  {
   "cell_type": "code",
   "execution_count": 92,
   "metadata": {},
   "outputs": [],
   "source": [
    "df.set_index('period',inplace=True)"
   ]
  },
  {
   "cell_type": "code",
   "execution_count": 93,
   "metadata": {},
   "outputs": [
    {
     "data": {
      "text/html": [
       "<div>\n",
       "<style scoped>\n",
       "    .dataframe tbody tr th:only-of-type {\n",
       "        vertical-align: middle;\n",
       "    }\n",
       "\n",
       "    .dataframe tbody tr th {\n",
       "        vertical-align: top;\n",
       "    }\n",
       "\n",
       "    .dataframe thead th {\n",
       "        text-align: right;\n",
       "    }\n",
       "</style>\n",
       "<table border=\"1\" class=\"dataframe\">\n",
       "  <thead>\n",
       "    <tr style=\"text-align: right;\">\n",
       "      <th></th>\n",
       "      <th>employeebenefitexpense</th>\n",
       "      <th>costofmaterialsconsumed</th>\n",
       "      <th>proceedsfromgovernmentgrantsclassifiedasinvestingactivities</th>\n",
       "      <th>otherincome</th>\n",
       "      <th>adjustmentsforfairvaluegainslosses</th>\n",
       "      <th>adjustmentsforincreasedecreaseintradepayablesnoncurrent</th>\n",
       "      <th>adjustmentsfordecreaseincreaseintradereceivablesnoncurrent</th>\n",
       "      <th>adjustmentsforsharebasedpayments</th>\n",
       "      <th>adjustmentsforundistributedprofitsofassociates</th>\n",
       "      <th>segmentassets</th>\n",
       "      <th>...</th>\n",
       "      <th>paymentsofleaseliabilitiesclassifiedasfinancingactivities</th>\n",
       "      <th>cashreceiptsfromrepaymentofadvancesandloansmadetootherpartiesclassifiedasinvestingactivit</th>\n",
       "      <th>repaymentsofborrowingsclassifiedasfinancingactivities</th>\n",
       "      <th>profitlossfromdiscontinuedoperationsaftertax</th>\n",
       "      <th>paidupvalueofequitysharecapital</th>\n",
       "      <th>proceedsfromborrowingsclassifiedasfinancingactivities</th>\n",
       "      <th>purchaseofpropertyplantandequipmentclassifiedasinvestingactivities</th>\n",
       "      <th>othercashreceiptsfromsalesofequityordebtinstrumentsofotherentitiesclassifiedasinvestingac</th>\n",
       "      <th>dividendsreceivedclassifiedasinvestingactivities</th>\n",
       "      <th>segmentrevenue</th>\n",
       "    </tr>\n",
       "    <tr>\n",
       "      <th>period</th>\n",
       "      <th></th>\n",
       "      <th></th>\n",
       "      <th></th>\n",
       "      <th></th>\n",
       "      <th></th>\n",
       "      <th></th>\n",
       "      <th></th>\n",
       "      <th></th>\n",
       "      <th></th>\n",
       "      <th></th>\n",
       "      <th></th>\n",
       "      <th></th>\n",
       "      <th></th>\n",
       "      <th></th>\n",
       "      <th></th>\n",
       "      <th></th>\n",
       "      <th></th>\n",
       "      <th></th>\n",
       "      <th></th>\n",
       "      <th></th>\n",
       "      <th></th>\n",
       "    </tr>\n",
       "  </thead>\n",
       "  <tbody>\n",
       "    <tr>\n",
       "      <th>2021-03-31</th>\n",
       "      <td>7792000000.0</td>\n",
       "      <td>11688000000.0</td>\n",
       "      <td>0.0</td>\n",
       "      <td>1144000000.0</td>\n",
       "      <td>0.0</td>\n",
       "      <td>0.0</td>\n",
       "      <td>0.0</td>\n",
       "      <td>0.0</td>\n",
       "      <td>0.0</td>\n",
       "      <td>111584000000.0</td>\n",
       "      <td>...</td>\n",
       "      <td>344000000.0</td>\n",
       "      <td>2240000000.0</td>\n",
       "      <td>1190000000.0</td>\n",
       "      <td>403000000.0</td>\n",
       "      <td>712000000.0</td>\n",
       "      <td>0.0</td>\n",
       "      <td>599000000.0</td>\n",
       "      <td>0.0</td>\n",
       "      <td>0.0</td>\n",
       "      <td>66846000000.0</td>\n",
       "    </tr>\n",
       "  </tbody>\n",
       "</table>\n",
       "<p>1 rows × 141 columns</p>\n",
       "</div>"
      ],
      "text/plain": [
       "           employeebenefitexpense costofmaterialsconsumed  \\\n",
       "period                                                      \n",
       "2021-03-31           7792000000.0           11688000000.0   \n",
       "\n",
       "           proceedsfromgovernmentgrantsclassifiedasinvestingactivities  \\\n",
       "period                                                                   \n",
       "2021-03-31                                                0.0            \n",
       "\n",
       "             otherincome adjustmentsforfairvaluegainslosses  \\\n",
       "period                                                        \n",
       "2021-03-31  1144000000.0                                0.0   \n",
       "\n",
       "           adjustmentsforincreasedecreaseintradepayablesnoncurrent  \\\n",
       "period                                                               \n",
       "2021-03-31                                                0.0        \n",
       "\n",
       "           adjustmentsfordecreaseincreaseintradereceivablesnoncurrent  \\\n",
       "period                                                                  \n",
       "2021-03-31                                                0.0           \n",
       "\n",
       "           adjustmentsforsharebasedpayments  \\\n",
       "period                                        \n",
       "2021-03-31                              0.0   \n",
       "\n",
       "           adjustmentsforundistributedprofitsofassociates   segmentassets  \\\n",
       "period                                                                      \n",
       "2021-03-31                                            0.0  111584000000.0   \n",
       "\n",
       "            ... paymentsofleaseliabilitiesclassifiedasfinancingactivities  \\\n",
       "period      ...                                                             \n",
       "2021-03-31  ...                                        344000000.0          \n",
       "\n",
       "           cashreceiptsfromrepaymentofadvancesandloansmadetootherpartiesclassifiedasinvestingactivit  \\\n",
       "period                                                                                                 \n",
       "2021-03-31                                       2240000000.0                                          \n",
       "\n",
       "           repaymentsofborrowingsclassifiedasfinancingactivities  \\\n",
       "period                                                             \n",
       "2021-03-31                                       1190000000.0      \n",
       "\n",
       "           profitlossfromdiscontinuedoperationsaftertax  \\\n",
       "period                                                    \n",
       "2021-03-31                                  403000000.0   \n",
       "\n",
       "           paidupvalueofequitysharecapital  \\\n",
       "period                                       \n",
       "2021-03-31                     712000000.0   \n",
       "\n",
       "           proceedsfromborrowingsclassifiedasfinancingactivities  \\\n",
       "period                                                             \n",
       "2021-03-31                                                0.0      \n",
       "\n",
       "           purchaseofpropertyplantandequipmentclassifiedasinvestingactivities  \\\n",
       "period                                                                          \n",
       "2021-03-31                                        599000000.0                   \n",
       "\n",
       "           othercashreceiptsfromsalesofequityordebtinstrumentsofotherentitiesclassifiedasinvestingac  \\\n",
       "period                                                                                                 \n",
       "2021-03-31                                                0.0                                          \n",
       "\n",
       "           dividendsreceivedclassifiedasinvestingactivities segmentrevenue  \n",
       "period                                                                      \n",
       "2021-03-31                                              0.0  66846000000.0  \n",
       "\n",
       "[1 rows x 141 columns]"
      ]
     },
     "execution_count": 93,
     "metadata": {},
     "output_type": "execute_result"
    }
   ],
   "source": [
    "df"
   ]
  },
  {
   "cell_type": "code",
   "execution_count": 94,
   "metadata": {},
   "outputs": [
    {
     "ename": "KeyError",
     "evalue": "'SYMBOL'",
     "output_type": "error",
     "traceback": [
      "\u001b[0;31m---------------------------------------------------------------------------\u001b[0m",
      "\u001b[0;31mKeyError\u001b[0m                                  Traceback (most recent call last)",
      "\u001b[0;32m~/.local/lib/python3.8/site-packages/pandas/core/indexes/base.py\u001b[0m in \u001b[0;36mget_loc\u001b[0;34m(self, key, method, tolerance)\u001b[0m\n\u001b[1;32m   3079\u001b[0m             \u001b[0;32mtry\u001b[0m\u001b[0;34m:\u001b[0m\u001b[0;34m\u001b[0m\u001b[0;34m\u001b[0m\u001b[0m\n\u001b[0;32m-> 3080\u001b[0;31m                 \u001b[0;32mreturn\u001b[0m \u001b[0mself\u001b[0m\u001b[0;34m.\u001b[0m\u001b[0m_engine\u001b[0m\u001b[0;34m.\u001b[0m\u001b[0mget_loc\u001b[0m\u001b[0;34m(\u001b[0m\u001b[0mcasted_key\u001b[0m\u001b[0;34m)\u001b[0m\u001b[0;34m\u001b[0m\u001b[0;34m\u001b[0m\u001b[0m\n\u001b[0m\u001b[1;32m   3081\u001b[0m             \u001b[0;32mexcept\u001b[0m \u001b[0mKeyError\u001b[0m \u001b[0;32mas\u001b[0m \u001b[0merr\u001b[0m\u001b[0;34m:\u001b[0m\u001b[0;34m\u001b[0m\u001b[0;34m\u001b[0m\u001b[0m\n",
      "\u001b[0;32mpandas/_libs/index.pyx\u001b[0m in \u001b[0;36mpandas._libs.index.IndexEngine.get_loc\u001b[0;34m()\u001b[0m\n",
      "\u001b[0;32mpandas/_libs/index.pyx\u001b[0m in \u001b[0;36mpandas._libs.index.IndexEngine.get_loc\u001b[0;34m()\u001b[0m\n",
      "\u001b[0;32mpandas/_libs/hashtable_class_helper.pxi\u001b[0m in \u001b[0;36mpandas._libs.hashtable.PyObjectHashTable.get_item\u001b[0;34m()\u001b[0m\n",
      "\u001b[0;32mpandas/_libs/hashtable_class_helper.pxi\u001b[0m in \u001b[0;36mpandas._libs.hashtable.PyObjectHashTable.get_item\u001b[0;34m()\u001b[0m\n",
      "\u001b[0;31mKeyError\u001b[0m: 'SYMBOL'",
      "\nThe above exception was the direct cause of the following exception:\n",
      "\u001b[0;31mKeyError\u001b[0m                                  Traceback (most recent call last)",
      "\u001b[0;32m<ipython-input-94-fe6d512c139c>\u001b[0m in \u001b[0;36m<module>\u001b[0;34m\u001b[0m\n\u001b[0;32m----> 1\u001b[0;31m \u001b[0mmask\u001b[0m \u001b[0;34m=\u001b[0m \u001b[0;34m(\u001b[0m\u001b[0mdf\u001b[0m\u001b[0;34m[\u001b[0m\u001b[0;34m'SYMBOL'\u001b[0m\u001b[0;34m]\u001b[0m \u001b[0;34m==\u001b[0m \u001b[0;34m'BRITANNIA'\u001b[0m\u001b[0;34m)\u001b[0m\u001b[0;34m\u001b[0m\u001b[0;34m\u001b[0m\u001b[0m\n\u001b[0m\u001b[1;32m      2\u001b[0m \u001b[0mbd\u001b[0m \u001b[0;34m=\u001b[0m \u001b[0mdf\u001b[0m\u001b[0;34m.\u001b[0m\u001b[0mloc\u001b[0m\u001b[0;34m[\u001b[0m\u001b[0mmask\u001b[0m\u001b[0;34m]\u001b[0m\u001b[0;34m\u001b[0m\u001b[0;34m\u001b[0m\u001b[0m\n",
      "\u001b[0;32m~/.local/lib/python3.8/site-packages/pandas/core/frame.py\u001b[0m in \u001b[0;36m__getitem__\u001b[0;34m(self, key)\u001b[0m\n\u001b[1;32m   3022\u001b[0m             \u001b[0;32mif\u001b[0m \u001b[0mself\u001b[0m\u001b[0;34m.\u001b[0m\u001b[0mcolumns\u001b[0m\u001b[0;34m.\u001b[0m\u001b[0mnlevels\u001b[0m \u001b[0;34m>\u001b[0m \u001b[0;36m1\u001b[0m\u001b[0;34m:\u001b[0m\u001b[0;34m\u001b[0m\u001b[0;34m\u001b[0m\u001b[0m\n\u001b[1;32m   3023\u001b[0m                 \u001b[0;32mreturn\u001b[0m \u001b[0mself\u001b[0m\u001b[0;34m.\u001b[0m\u001b[0m_getitem_multilevel\u001b[0m\u001b[0;34m(\u001b[0m\u001b[0mkey\u001b[0m\u001b[0;34m)\u001b[0m\u001b[0;34m\u001b[0m\u001b[0;34m\u001b[0m\u001b[0m\n\u001b[0;32m-> 3024\u001b[0;31m             \u001b[0mindexer\u001b[0m \u001b[0;34m=\u001b[0m \u001b[0mself\u001b[0m\u001b[0;34m.\u001b[0m\u001b[0mcolumns\u001b[0m\u001b[0;34m.\u001b[0m\u001b[0mget_loc\u001b[0m\u001b[0;34m(\u001b[0m\u001b[0mkey\u001b[0m\u001b[0;34m)\u001b[0m\u001b[0;34m\u001b[0m\u001b[0;34m\u001b[0m\u001b[0m\n\u001b[0m\u001b[1;32m   3025\u001b[0m             \u001b[0;32mif\u001b[0m \u001b[0mis_integer\u001b[0m\u001b[0;34m(\u001b[0m\u001b[0mindexer\u001b[0m\u001b[0;34m)\u001b[0m\u001b[0;34m:\u001b[0m\u001b[0;34m\u001b[0m\u001b[0;34m\u001b[0m\u001b[0m\n\u001b[1;32m   3026\u001b[0m                 \u001b[0mindexer\u001b[0m \u001b[0;34m=\u001b[0m \u001b[0;34m[\u001b[0m\u001b[0mindexer\u001b[0m\u001b[0;34m]\u001b[0m\u001b[0;34m\u001b[0m\u001b[0;34m\u001b[0m\u001b[0m\n",
      "\u001b[0;32m~/.local/lib/python3.8/site-packages/pandas/core/indexes/base.py\u001b[0m in \u001b[0;36mget_loc\u001b[0;34m(self, key, method, tolerance)\u001b[0m\n\u001b[1;32m   3080\u001b[0m                 \u001b[0;32mreturn\u001b[0m \u001b[0mself\u001b[0m\u001b[0;34m.\u001b[0m\u001b[0m_engine\u001b[0m\u001b[0;34m.\u001b[0m\u001b[0mget_loc\u001b[0m\u001b[0;34m(\u001b[0m\u001b[0mcasted_key\u001b[0m\u001b[0;34m)\u001b[0m\u001b[0;34m\u001b[0m\u001b[0;34m\u001b[0m\u001b[0m\n\u001b[1;32m   3081\u001b[0m             \u001b[0;32mexcept\u001b[0m \u001b[0mKeyError\u001b[0m \u001b[0;32mas\u001b[0m \u001b[0merr\u001b[0m\u001b[0;34m:\u001b[0m\u001b[0;34m\u001b[0m\u001b[0;34m\u001b[0m\u001b[0m\n\u001b[0;32m-> 3082\u001b[0;31m                 \u001b[0;32mraise\u001b[0m \u001b[0mKeyError\u001b[0m\u001b[0;34m(\u001b[0m\u001b[0mkey\u001b[0m\u001b[0;34m)\u001b[0m \u001b[0;32mfrom\u001b[0m \u001b[0merr\u001b[0m\u001b[0;34m\u001b[0m\u001b[0;34m\u001b[0m\u001b[0m\n\u001b[0m\u001b[1;32m   3083\u001b[0m \u001b[0;34m\u001b[0m\u001b[0m\n\u001b[1;32m   3084\u001b[0m         \u001b[0;32mif\u001b[0m \u001b[0mtolerance\u001b[0m \u001b[0;32mis\u001b[0m \u001b[0;32mnot\u001b[0m \u001b[0;32mNone\u001b[0m\u001b[0;34m:\u001b[0m\u001b[0;34m\u001b[0m\u001b[0;34m\u001b[0m\u001b[0m\n",
      "\u001b[0;31mKeyError\u001b[0m: 'SYMBOL'"
     ]
    }
   ],
   "source": []
  },
  {
   "cell_type": "code",
   "execution_count": null,
   "metadata": {},
   "outputs": [],
   "source": []
  }
 ],
 "metadata": {
  "kernelspec": {
   "display_name": "Python 3",
   "language": "python",
   "name": "python3"
  },
  "language_info": {
   "codemirror_mode": {
    "name": "ipython",
    "version": 3
   },
   "file_extension": ".py",
   "mimetype": "text/x-python",
   "name": "python",
   "nbconvert_exporter": "python",
   "pygments_lexer": "ipython3",
   "version": "3.8.5"
  }
 },
 "nbformat": 4,
 "nbformat_minor": 4
}
