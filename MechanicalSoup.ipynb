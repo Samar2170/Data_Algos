{
 "cells": [
  {
   "cell_type": "code",
   "execution_count": 1,
   "metadata": {},
   "outputs": [],
   "source": [
    "import mechanicalsoup\n",
    "from bs4 import BeautifulSoup as bs\n",
    "import pandas as pd\n",
    "import requests"
   ]
  },
  {
   "cell_type": "code",
   "execution_count": 2,
   "metadata": {},
   "outputs": [],
   "source": [
    "browser = mechanicalsoup.StatefulBrowser()"
   ]
  },
  {
   "cell_type": "code",
   "execution_count": 3,
   "metadata": {},
   "outputs": [
    {
     "data": {
      "text/plain": [
       "<Response [200]>"
      ]
     },
     "execution_count": 3,
     "metadata": {},
     "output_type": "execute_result"
    }
   ],
   "source": [
    "browser.open('http://rftshop.online/')"
   ]
  },
  {
   "cell_type": "code",
   "execution_count": 5,
   "metadata": {},
   "outputs": [
    {
     "data": {
      "text/plain": [
       "<Response [200]>"
      ]
     },
     "execution_count": 5,
     "metadata": {},
     "output_type": "execute_result"
    }
   ],
   "source": [
    "browser.follow_link(\"cart\")"
   ]
  },
  {
   "cell_type": "code",
   "execution_count": 6,
   "metadata": {},
   "outputs": [
    {
     "data": {
      "text/plain": [
       "'http://rftshop.online/cart/'"
      ]
     },
     "execution_count": 6,
     "metadata": {},
     "output_type": "execute_result"
    }
   ],
   "source": [
    "browser.url"
   ]
  },
  {
   "cell_type": "raw",
   "metadata": {},
   "source": []
  },
  {
   "cell_type": "code",
   "execution_count": 7,
   "metadata": {},
   "outputs": [
    {
     "data": {
      "text/plain": [
       "<!DOCTYPE html>\n",
       "<html lang=\"en\">\n",
       "<head>\n",
       "<meta charset=\"utf-8\"/>\n",
       "<meta content=\"width=device-width, initial-scale=1, shrink-to-fit=no\" name=\"viewport\"/>\n",
       "<link href=\"/static/css/style.css\" rel=\"stylesheet\"/>\n",
       "<link href=\"/static/css/index.css\" rel=\"stylesheet\"/>\n",
       "<link href=\"https://fonts.gstatic.com\" rel=\"preconnect\"/>\n",
       "<link href=\"https://fonts.googleapis.com/css2?family=Dancing+Script:wght@700&amp;display=swap\" rel=\"stylesheet\"/>\n",
       "<link href=\"https://fonts.googleapis.com/css2?family=Poppins:wght@300&amp;family=Arvo&amp;family=Epilogue:wght@300&amp;family=Mulish&amp;family=Roboto+Mono&amp;display=swap\" rel=\"stylesheet\"/>\n",
       "<link href=\"https://fonts.googleapis.com/css2?family=Play&amp;family=RocknRoll+One&amp;family=Shippori+Mincho+B1:wght@700&amp;display=swap\" rel=\"stylesheet\"/>\n",
       "<link href=\"https://fonts.googleapis.com/css2?family=Roboto+Slab:wght@400;500;600&amp;display=swap\" rel=\"stylesheet\"/>\n",
       "<script defer=\"\" src=\"https://cdn.jsdelivr.net/gh/alpinejs/alpine@v2.x.x/dist/alpine.min.js\"></script>\n",
       "<title>Reformation of Threads - Shop for Dresses, Handbags &amp; Acessories</title>\n",
       "</head>\n",
       "<body class=\"bg-gray-900\">\n",
       "<!-- navbar goes here -->\n",
       "<div class=\"w-full text-gray-700 bg-gray-100 dark-mode:text-gray-200 dark-mode:bg-gray-800\">\n",
       "<div class=\"flex flex-col max-w-screen-xl px-4 mx-auto md:items-center md:justify-between md:flex-row md:px-6 lg:px-8\" x-data=\"{ open: false }\">\n",
       "<div class=\"p-4 flex flex-row items-center justify-between\">\n",
       "<a href=\"/\"><img class=\"h-16 w-24\" src=\"/static/images/rft_logo_tp.png\"/></a>\n",
       "<a class=\"ml-4 text-lg font-semibold tracking-widest text-gray-900 uppercase rounded-lg dark-mode:text-white focus:outline-none focus:shadow-outline\" href=\"/\">Reformation of Threads</a>\n",
       "<button class=\"md:hidden rounded-lg focus:outline-none focus:shadow-outline\">\n",
       "<svg class=\"w-6 h-6\" fill=\"currentColor\" viewbox=\"0 0 20 20\">\n",
       "<path clip-rule=\"evenodd\" d=\"M3 5a1 1 0 011-1h12a1 1 0 110 2H4a1 1 0 01-1-1zM3 10a1 1 0 011-1h12a1 1 0 110 2H4a1 1 0 01-1-1zM9 15a1 1 0 011-1h6a1 1 0 110 2h-6a1 1 0 01-1-1z\" fill-rule=\"evenodd\" x-show=\"!open\"></path>\n",
       "<path clip-rule=\"evenodd\" d=\"M4.293 4.293a1 1 0 011.414 0L10 8.586l4.293-4.293a1 1 0 111.414 1.414L11.414 10l4.293 4.293a1 1 0 01-1.414 1.414L10 11.414l-4.293 4.293a1 1 0 01-1.414-1.414L8.586 10 4.293 5.707a1 1 0 010-1.414z\" fill-rule=\"evenodd\" x-show=\"open\"></path>\n",
       "</svg>\n",
       "</button>\n",
       "</div>\n",
       "<nav :class=\"{'flex': open, 'hidden': !open}\" class=\"flex-col flex-grow pb-4 md:pb-0 hidden md:flex md:justify-end md:flex-row\">\n",
       "<a class=\"px-4 py-2 mt-2 text-base font-semibold text-gray-900 bg-gray-200 rounded-lg md:mt-0 focus:outline-none focus:shadow-outline\" href=\"/suits\">Dresses</a>\n",
       "<a class=\"text-gray-800 px-4 py-2 mt-2 text-base font-semibold bg-transparent rounded-lg md:mt-0 md:ml-4 focus:outline-none focus:shadow-outline\" href=\"/handbags\">Handbags</a>\n",
       "<a class=\"text-gray-800 px-4 py-2 mt-2 text-base font-semibold bg-transparent rounded-lg md:mt-0 md:ml-4 focus:outline-none focus:shadow-outline\" href=\"/acessories\">Acessories</a>\n",
       "<a class=\"text-gray-800 px-4 py-2 mt-2 text-base font-semibold bg-transparent rounded-lg md:mt-0 md:ml-4 focus:outline-none focus:shadow-outline\" href=\"/cart\"><i class=\"fas fa-shopping-cart\"></i><span class=\"inline-block w-6 h-8 ml-2 pl-2 bg-red-600 pt-1 text-gray-50 rounded-full\">0</span></a>\n",
       "</nav>\n",
       "</div>\n",
       "</div>\n",
       "<header class=\"header-section bg-blue-500 flex flex-row px-8 py-3\">\n",
       "<button class=\"flex-none\">\n",
       "<span class=\"fa fa-chevron-left font-bold text-2xl\">\n",
       "</span></button>\n",
       "<div class=\"flex-grow text-center\">\n",
       "<h2 class=\"font-bold text-2xl\">My Cart</h2>\n",
       "</div>\n",
       "</header>\n",
       "<main class=\"mb-12\">\n",
       "<ul class=\"p-8\">\n",
       "</ul>\n",
       "</main>\n",
       "<footer class=\"header-section bg-blue-500 flex flex-row px-8 py-1 fixed bottom-0 w-screen w-full z-50\">\n",
       "<div class=\"mr-12\">\n",
       "<p class=\"title font-semibold text-sm\">Total</p>\n",
       "<p class=\"value font-semibold text-lg\">0</p>\n",
       "</div>\n",
       "<div class=\"flex-grow text-center\">\n",
       "<button class=\"bg-white px-10 py-3 rounded-lg w-full\">\n",
       "<span class=\"font-bold\"><a href=\"/checkoutW\">Checkout</a></span>\n",
       "<i class=\"fa fa-chevron-right\"></i>\n",
       "</button>\n",
       "</div>\n",
       "</footer>\n",
       "</body>\n",
       "<script crossorigin=\"anonymous\" src=\"https://kit.fontawesome.com/2a646f8af4.js\"></script>\n",
       "</html>"
      ]
     },
     "execution_count": 7,
     "metadata": {},
     "output_type": "execute_result"
    }
   ],
   "source": [
    "browser.page"
   ]
  },
  {
   "cell_type": "code",
   "execution_count": 8,
   "metadata": {},
   "outputs": [
    {
     "ename": "LinkNotFoundError",
     "evalue": "",
     "output_type": "error",
     "traceback": [
      "\u001b[0;31m---------------------------------------------------------------------------\u001b[0m",
      "\u001b[0;31mLinkNotFoundError\u001b[0m                         Traceback (most recent call last)",
      "\u001b[0;32m<ipython-input-8-631ea6ffb12a>\u001b[0m in \u001b[0;36m<module>\u001b[0;34m\u001b[0m\n\u001b[0;32m----> 1\u001b[0;31m \u001b[0mbrowser\u001b[0m\u001b[0;34m.\u001b[0m\u001b[0mselect_form\u001b[0m\u001b[0;34m(\u001b[0m\u001b[0;34m'form[action=\"/post\"]'\u001b[0m\u001b[0;34m)\u001b[0m\u001b[0;34m\u001b[0m\u001b[0;34m\u001b[0m\u001b[0m\n\u001b[0m",
      "\u001b[0;32m~/anaconda3/lib/python3.8/site-packages/mechanicalsoup/stateful_browser.py\u001b[0m in \u001b[0;36mselect_form\u001b[0;34m(self, selector, nr)\u001b[0m\n\u001b[1;32m    220\u001b[0m                     \u001b[0mprint\u001b[0m\u001b[0;34m(\u001b[0m\u001b[0;34m'select_form failed for'\u001b[0m\u001b[0;34m,\u001b[0m \u001b[0mselector\u001b[0m\u001b[0;34m)\u001b[0m\u001b[0;34m\u001b[0m\u001b[0;34m\u001b[0m\u001b[0m\n\u001b[1;32m    221\u001b[0m                     \u001b[0mself\u001b[0m\u001b[0;34m.\u001b[0m\u001b[0mlaunch_browser\u001b[0m\u001b[0;34m(\u001b[0m\u001b[0;34m)\u001b[0m\u001b[0;34m\u001b[0m\u001b[0;34m\u001b[0m\u001b[0m\n\u001b[0;32m--> 222\u001b[0;31m                 \u001b[0;32mraise\u001b[0m \u001b[0mLinkNotFoundError\u001b[0m\u001b[0;34m(\u001b[0m\u001b[0;34m)\u001b[0m\u001b[0;34m\u001b[0m\u001b[0;34m\u001b[0m\u001b[0m\n\u001b[0m\u001b[1;32m    223\u001b[0m             \u001b[0mself\u001b[0m\u001b[0;34m.\u001b[0m\u001b[0m__state\u001b[0m\u001b[0;34m.\u001b[0m\u001b[0mform\u001b[0m \u001b[0;34m=\u001b[0m \u001b[0mForm\u001b[0m\u001b[0;34m(\u001b[0m\u001b[0mfound_forms\u001b[0m\u001b[0;34m[\u001b[0m\u001b[0;34m-\u001b[0m\u001b[0;36m1\u001b[0m\u001b[0;34m]\u001b[0m\u001b[0;34m)\u001b[0m\u001b[0;34m\u001b[0m\u001b[0;34m\u001b[0m\u001b[0m\n\u001b[1;32m    224\u001b[0m \u001b[0;34m\u001b[0m\u001b[0m\n",
      "\u001b[0;31mLinkNotFoundError\u001b[0m: "
     ]
    }
   ],
   "source": [
    "browser.select_form('form[action=\"/post\"]')"
   ]
  },
  {
   "cell_type": "code",
   "execution_count": 9,
   "metadata": {},
   "outputs": [
    {
     "data": {
      "text/plain": [
       "<Response [200]>"
      ]
     },
     "execution_count": 9,
     "metadata": {},
     "output_type": "execute_result"
    }
   ],
   "source": [
    "browser.open(\"http://httpbin.org/\")"
   ]
  },
  {
   "cell_type": "code",
   "execution_count": 10,
   "metadata": {},
   "outputs": [
    {
     "data": {
      "text/plain": [
       "<Response [200]>"
      ]
     },
     "execution_count": 10,
     "metadata": {},
     "output_type": "execute_result"
    }
   ],
   "source": [
    "browser.follow_link(\"forms\")"
   ]
  },
  {
   "cell_type": "code",
   "execution_count": 12,
   "metadata": {},
   "outputs": [
    {
     "data": {
      "text/plain": [
       "[<legend> Pizza Size </legend>, <legend> Pizza Toppings </legend>]"
      ]
     },
     "execution_count": 12,
     "metadata": {},
     "output_type": "execute_result"
    }
   ],
   "source": [
    "browser.page.find_all('legend')"
   ]
  },
  {
   "cell_type": "code",
   "execution_count": 13,
   "metadata": {},
   "outputs": [
    {
     "data": {
      "text/plain": [
       "<mechanicalsoup.form.Form at 0x7f33ddc6e580>"
      ]
     },
     "execution_count": 13,
     "metadata": {},
     "output_type": "execute_result"
    }
   ],
   "source": [
    "browser.select_form('form[action=\"/post\"]')"
   ]
  },
  {
   "cell_type": "code",
   "execution_count": 14,
   "metadata": {},
   "outputs": [
    {
     "name": "stdout",
     "output_type": "stream",
     "text": [
      "<input name=\"custname\"/>\n",
      "<input name=\"custtel\" type=\"tel\"/>\n",
      "<input name=\"custemail\" type=\"email\"/>\n",
      "<input name=\"size\" type=\"radio\" value=\"small\"/>\n",
      "<input name=\"size\" type=\"radio\" value=\"medium\"/>\n",
      "<input name=\"size\" type=\"radio\" value=\"large\"/>\n",
      "<input name=\"topping\" type=\"checkbox\" value=\"bacon\"/>\n",
      "<input name=\"topping\" type=\"checkbox\" value=\"cheese\"/>\n",
      "<input name=\"topping\" type=\"checkbox\" value=\"onion\"/>\n",
      "<input name=\"topping\" type=\"checkbox\" value=\"mushroom\"/>\n",
      "<input max=\"21:00\" min=\"11:00\" name=\"delivery\" step=\"900\" type=\"time\"/>\n",
      "<textarea name=\"comments\"></textarea>\n",
      "<button>Submit order</button>\n"
     ]
    }
   ],
   "source": [
    "browser.form.print_summary()"
   ]
  },
  {
   "cell_type": "code",
   "execution_count": 15,
   "metadata": {},
   "outputs": [],
   "source": [
    "browser['custname'] = \"Me\"\n",
    "browser['custtel'] = \"00 00 0001\"\n",
    "browser[\"custemail\"] = \"nobody@example.com\"\n",
    "browser[\"comments\"] = \"This pizza looks really good :-)\""
   ]
  },
  {
   "cell_type": "code",
   "execution_count": 16,
   "metadata": {},
   "outputs": [],
   "source": [
    "browser[\"size\"] = \"medium\"\n",
    "browser[\"topping\"] = \"bacon\""
   ]
  },
  {
   "cell_type": "code",
   "execution_count": 17,
   "metadata": {},
   "outputs": [],
   "source": [
    "browser.launch_browser()"
   ]
  },
  {
   "cell_type": "code",
   "execution_count": 18,
   "metadata": {},
   "outputs": [],
   "source": [
    "response = browser.submit_selected()"
   ]
  },
  {
   "cell_type": "code",
   "execution_count": 19,
   "metadata": {},
   "outputs": [
    {
     "name": "stdout",
     "output_type": "stream",
     "text": [
      "{\n",
      "  \"args\": {}, \n",
      "  \"data\": \"\", \n",
      "  \"files\": {}, \n",
      "  \"form\": {\n",
      "    \"comments\": \"This pizza looks really good :-)\", \n",
      "    \"custemail\": \"nobody@example.com\", \n",
      "    \"custname\": \"Me\", \n",
      "    \"custtel\": \"00 00 0001\", \n",
      "    \"delivery\": \"\", \n",
      "    \"size\": \"medium\", \n",
      "    \"topping\": \"bacon\"\n",
      "  }, \n",
      "  \"headers\": {\n",
      "    \"Accept\": \"*/*\", \n",
      "    \"Accept-Encoding\": \"gzip, deflate\", \n",
      "    \"Content-Length\": \"143\", \n",
      "    \"Content-Type\": \"application/x-www-form-urlencoded\", \n",
      "    \"Host\": \"httpbin.org\", \n",
      "    \"Referer\": \"http://httpbin.org/forms/post\", \n",
      "    \"User-Agent\": \"python-requests/2.25.1 (MechanicalSoup/1.1.0)\", \n",
      "    \"X-Amzn-Trace-Id\": \"Root=1-60b667a7-7084d6da7ac3f86c1de87bce\"\n",
      "  }, \n",
      "  \"json\": null, \n",
      "  \"origin\": \"49.206.123.78\", \n",
      "  \"url\": \"http://httpbin.org/post\"\n",
      "}\n",
      "\n"
     ]
    }
   ],
   "source": [
    "print(response.text)"
   ]
  },
  {
   "cell_type": "code",
   "execution_count": 20,
   "metadata": {},
   "outputs": [],
   "source": [
    "import argparse\n",
    "from getpass import getpass\n",
    "import mechanicalsoup"
   ]
  },
  {
   "cell_type": "code",
   "execution_count": 27,
   "metadata": {},
   "outputs": [
    {
     "name": "stderr",
     "output_type": "stream",
     "text": [
      "usage: ipykernel_launcher.py [-h] username\n",
      "ipykernel_launcher.py: error: unrecognized arguments: -f\n"
     ]
    },
    {
     "ename": "SystemExit",
     "evalue": "2",
     "output_type": "error",
     "traceback": [
      "An exception has occurred, use %tb to see the full traceback.\n",
      "\u001b[0;31mSystemExit\u001b[0m\u001b[0;31m:\u001b[0m 2\n"
     ]
    }
   ],
   "source": [
    "parser = argparse.ArgumentParser(description=\"Login to Github.\")\n",
    "parser.add_argument(\"username\")\n",
    "args = parser.parse_args()\n",
    "arg.password = getpass(\"Please enter your Github password:\")\n",
    "browser = mechanicalsoup.StatefulBrowser(\n",
    "    soup_config={'features':'lxml'},\n",
    "    raise_on_404=True,\n",
    "    user_agent='MyBot/0.1: mysite/example.com/bot_info',\n",
    ")\n"
   ]
  },
  {
   "cell_type": "code",
   "execution_count": 28,
   "metadata": {},
   "outputs": [
    {
     "name": "stderr",
     "output_type": "stream",
     "text": [
      "usage: ipykernel_launcher.py [-h] username\n",
      "ipykernel_launcher.py: error: unrecognized arguments: -f\n"
     ]
    },
    {
     "ename": "SystemExit",
     "evalue": "2",
     "output_type": "error",
     "traceback": [
      "An exception has occurred, use %tb to see the full traceback.\n",
      "\u001b[0;31mSystemExit\u001b[0m\u001b[0;31m:\u001b[0m 2\n"
     ]
    }
   ],
   "source": [
    "import argparse\n",
    "from getpass import getpass\n",
    "\n",
    "import mechanicalsoup\n",
    "\n",
    "\n",
    "parser = argparse.ArgumentParser(description=\"Login to GitHub.\")\n",
    "parser.add_argument(\"username\")\n",
    "args = parser.parse_args()\n",
    "\n",
    "args.password = getpass(\"Please enter your GitHub password: \")\n",
    "\n",
    "browser = mechanicalsoup.StatefulBrowser(\n",
    "    soup_config={'features': 'lxml'},\n",
    "    raise_on_404=True,\n",
    "    user_agent='MyBot/0.1: mysite.example.com/bot_info',\n",
    ")\n",
    "# Uncomment for a more verbose output:\n",
    "# browser.set_verbose(2)\n",
    "\n",
    "browser.open(\"https://github.com\")\n",
    "browser.follow_link(\"login\")\n",
    "browser.select_form('#login form')\n",
    "browser[\"login\"] = args.username\n",
    "browser[\"password\"] = args.password\n",
    "resp = browser.submit_selected()\n",
    "\n",
    "# Uncomment to launch a web browser on the current page:\n",
    "# browser.launch_browser()\n",
    "\n",
    "# verify we are now logged in\n",
    "page = browser.page\n",
    "messages = page.find(\"div\", class_=\"flash-messages\")\n",
    "if messages:\n",
    "    print(messages.text)\n",
    "assert page.select(\".logout-form\")\n",
    "\n",
    "print(page.title.text)\n",
    "\n",
    "# verify we remain logged in (thanks to cookies) as we browse the rest of\n",
    "# the site\n",
    "page3 = browser.open(\"https://github.com/MechanicalSoup/MechanicalSoup\")\n",
    "assert page3.soup.select(\".logout-form\")"
   ]
  },
  {
   "cell_type": "code",
   "execution_count": 29,
   "metadata": {},
   "outputs": [
    {
     "name": "stderr",
     "output_type": "stream",
     "text": [
      "usage: ipykernel_launcher.py [-h] username password\n",
      "ipykernel_launcher.py: error: the following arguments are required: password\n"
     ]
    },
    {
     "ename": "SystemExit",
     "evalue": "2",
     "output_type": "error",
     "traceback": [
      "An exception has occurred, use %tb to see the full traceback.\n",
      "\u001b[0;31mSystemExit\u001b[0m\u001b[0;31m:\u001b[0m 2\n"
     ]
    }
   ],
   "source": [
    "import argparse\n",
    "\n",
    "import mechanicalsoup\n",
    "\n",
    "\n",
    "parser = argparse.ArgumentParser(description=\"Login to GitHub.\")\n",
    "parser.add_argument(\"username\")\n",
    "parser.add_argument(\"password\")\n",
    "args = parser.parse_args()\n",
    "\n",
    "browser = mechanicalsoup.Browser(soup_config={'features': 'lxml'})\n",
    "\n",
    "# request github login page. the result is a requests.Response object\n",
    "# http://docs.python-requests.org/en/latest/user/quickstart/#response-content\n",
    "login_page = browser.get(\"https://github.com/login\")\n",
    "\n",
    "# similar to assert login_page.ok but with full status code in case of\n",
    "# failure.\n",
    "login_page.raise_for_status()\n",
    "\n",
    "# login_page.soup is a BeautifulSoup object\n",
    "# http://www.crummy.com/software/BeautifulSoup/bs4/doc/#beautifulsoup\n",
    "# we grab the login form\n",
    "login_form = mechanicalsoup.Form(login_page.soup.select_one('#login form'))\n",
    "\n",
    "# specify username and password\n",
    "login_form.input({\"login\": args.username, \"password\": args.password})\n",
    "\n",
    "# submit form\n",
    "page2 = browser.submit(login_form, login_page.url)\n",
    "\n",
    "# verify we are now logged in\n",
    "messages = page2.soup.find(\"div\", class_=\"flash-messages\")\n",
    "if messages:\n",
    "    print(messages.text)\n",
    "assert page2.soup.select(\".logout-form\")\n",
    "\n",
    "print(page2.soup.title.text)\n",
    "\n",
    "# verify we remain logged in (thanks to cookies) as we browse the rest of\n",
    "# the site\n",
    "page3 = browser.get(\"https://github.com/MechanicalSoup/MechanicalSoup\")\n",
    "assert page3.soup.select(\".logout-form\")"
   ]
  },
  {
   "cell_type": "code",
   "execution_count": 30,
   "metadata": {},
   "outputs": [],
   "source": [
    "browser = mechanicalsoup.StatefulBrowser(\n",
    "    soup_config={'features': 'lxml'},  # Use the lxml HTML parser\n",
    "    raise_on_404=True,\n",
    "    user_agent='MyBot/0.1: mysite.example.com/bot_info',\n",
    ")\n"
   ]
  },
  {
   "cell_type": "code",
   "execution_count": 32,
   "metadata": {},
   "outputs": [
    {
     "data": {
      "text/plain": [
       "<Response [200]>"
      ]
     },
     "execution_count": 32,
     "metadata": {},
     "output_type": "execute_result"
    }
   ],
   "source": [
    "url = \"https://www.moneycontrol.com/\"\n",
    "browser.open(url)"
   ]
  },
  {
   "cell_type": "code",
   "execution_count": null,
   "metadata": {},
   "outputs": [],
   "source": []
  },
  {
   "cell_type": "code",
   "execution_count": null,
   "metadata": {},
   "outputs": [],
   "source": []
  }
 ],
 "metadata": {
  "kernelspec": {
   "display_name": "Python 3",
   "language": "python",
   "name": "python3"
  },
  "language_info": {
   "codemirror_mode": {
    "name": "ipython",
    "version": 3
   },
   "file_extension": ".py",
   "mimetype": "text/x-python",
   "name": "python",
   "nbconvert_exporter": "python",
   "pygments_lexer": "ipython3",
   "version": "3.8.5"
  }
 },
 "nbformat": 4,
 "nbformat_minor": 4
}
