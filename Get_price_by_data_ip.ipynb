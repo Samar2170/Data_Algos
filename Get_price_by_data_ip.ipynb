{
 "cells": [
  {
   "cell_type": "code",
   "execution_count": 1,
   "metadata": {},
   "outputs": [],
   "source": [
    "from yahooquery import Ticker\n"
   ]
  },
  {
   "cell_type": "code",
   "execution_count": 2,
   "metadata": {},
   "outputs": [],
   "source": [
    "import investpy as ip"
   ]
  },
  {
   "cell_type": "code",
   "execution_count": 5,
   "metadata": {},
   "outputs": [],
   "source": [
    "df = ip.get_stock_historical_data(stock='IOC', country=\"India\", from_date='01/01/2009', to_date='30/04/2021', interval='Monthly', as_json=True)"
   ]
  },
  {
   "cell_type": "code",
   "execution_count": 7,
   "metadata": {},
   "outputs": [
    {
     "data": {
      "text/plain": [
       "'{\"name\": \"Indian Oil\", \"historical\": [{\"date\": \"01/01/2009\", \"open\": 50.7, \"high\": 56.73, \"low\": 44.25, \"close\": 55.77, \"volume\": 59752080, \"currency\": \"INR\"}, {\"date\": \"01/02/2009\", \"open\": 56.0, \"high\": 58.36, \"low\": 52.51, \"close\": 54.71, \"volume\": 37573528, \"currency\": \"INR\"}, {\"date\": \"01/03/2009\", \"open\": 53.89, \"high\": 56.34, \"low\": 47.26, \"close\": 48.48, \"volume\": 49605792, \"currency\": \"INR\"}, {\"date\": \"01/04/2009\", \"open\": 49.87, \"high\": 56.88, \"low\": 48.52, \"close\": 55.34, \"volume\": 33818712, \"currency\": \"INR\"}, {\"date\": \"01/05/2009\", \"open\": 55.62, \"high\": 82.75, \"low\": 50.0, \"close\": 76.12, \"volume\": 103288344, \"currency\": \"INR\"}, {\"date\": \"01/06/2009\", \"open\": 77.0, \"high\": 79.12, \"low\": 65.51, \"close\": 66.48, \"volume\": 125103784, \"currency\": \"INR\"}, {\"date\": \"01/07/2009\", \"open\": 66.88, \"high\": 73.33, \"low\": 63.27, \"close\": 68.42, \"volume\": 86995712, \"currency\": \"INR\"}, {\"date\": \"01/08/2009\", \"open\": 68.89, \"high\": 74.75, \"low\": 66.38, \"close\": 72.25, \"volume\": 108612744, \"currency\": \"INR\"}, {\"date\": \"01/09/2009\", \"open\": 72.99, \"high\": 86.97, \"low\": 72.75, \"close\": 85.06, \"volume\": 120231976, \"currency\": \"INR\"}, {\"date\": \"01/10/2009\", \"open\": 85.04, \"high\": 85.75, \"low\": 70.29, \"close\": 77.85, \"volume\": 67002024, \"currency\": \"INR\"}, {\"date\": \"01/11/2009\", \"open\": 75.62, \"high\": 79.47, \"low\": 71.3, \"close\": 72.3, \"volume\": 65517020, \"currency\": \"INR\"}, {\"date\": \"01/12/2009\", \"open\": 72.97, \"high\": 83.21, \"low\": 72.3, \"close\": 76.47, \"volume\": 69194688, \"currency\": \"INR\"}, {\"date\": \"01/01/2010\", \"open\": 76.75, \"high\": 83.61, \"low\": 73.76, \"close\": 75.34, \"volume\": 49718916, \"currency\": \"INR\"}, {\"date\": \"01/02/2010\", \"open\": 75.5, \"high\": 83.61, \"low\": 74.5, \"close\": 79.35, \"volume\": 58818404, \"currency\": \"INR\"}, {\"date\": \"01/03/2010\", \"open\": 79.0, \"high\": 80.42, \"low\": 72.8, \"close\": 73.94, \"volume\": 49159452, \"currency\": \"INR\"}, {\"date\": \"01/04/2010\", \"open\": 77.49, \"high\": 77.49, \"low\": 68.26, \"close\": 73.69, \"volume\": 43943296, \"currency\": \"INR\"}, {\"date\": \"01/05/2010\", \"open\": 73.5, \"high\": 88.72, \"low\": 72.45, \"close\": 88.29, \"volume\": 85684440, \"currency\": \"INR\"}, {\"date\": \"01/06/2010\", \"open\": 88.7, \"high\": 104.38, \"low\": 79.42, \"close\": 100.78, \"volume\": 233684512, \"currency\": \"INR\"}, {\"date\": \"01/07/2010\", \"open\": 100.75, \"high\": 102.25, \"low\": 88.08, \"close\": 90.5, \"volume\": 142980352, \"currency\": \"INR\"}, {\"date\": \"01/08/2010\", \"open\": 90.58, \"high\": 104.17, \"low\": 89.01, \"close\": 102.79, \"volume\": 108857464, \"currency\": \"INR\"}, {\"date\": \"01/09/2010\", \"open\": 103.62, \"high\": 114.22, \"low\": 102.26, \"close\": 104.2, \"volume\": 127651520, \"currency\": \"INR\"}, {\"date\": \"01/10/2010\", \"open\": 104.97, \"high\": 108.75, \"low\": 99.79, \"close\": 104.51, \"volume\": 80140000, \"currency\": \"INR\"}, {\"date\": \"01/11/2010\", \"open\": 105.0, \"high\": 106.97, \"low\": 81.63, \"close\": 86.66, \"volume\": 66250000, \"currency\": \"INR\"}, {\"date\": \"01/12/2010\", \"open\": 87.25, \"high\": 101.8, \"low\": 83.79, \"close\": 85.6, \"volume\": 99400000, \"currency\": \"INR\"}, {\"date\": \"01/01/2011\", \"open\": 86.0, \"high\": 88.86, \"low\": 75.31, \"close\": 84.24, \"volume\": 80830000, \"currency\": \"INR\"}, {\"date\": \"01/02/2011\", \"open\": 84.0, \"high\": 84.38, \"low\": 72.53, \"close\": 74.74, \"volume\": 51740000, \"currency\": \"INR\"}, {\"date\": \"01/03/2011\", \"open\": 75.25, \"high\": 85.5, \"low\": 73.75, \"close\": 83.21, \"volume\": 57120000, \"currency\": \"INR\"}, {\"date\": \"01/04/2011\", \"open\": 82.5, \"high\": 86.0, \"low\": 80.15, \"close\": 84.96, \"volume\": 30600000, \"currency\": \"INR\"}, {\"date\": \"01/05/2011\", \"open\": 85.34, \"high\": 89.93, \"low\": 74.38, \"close\": 82.07, \"volume\": 67790000, \"currency\": \"INR\"}, {\"date\": \"01/06/2011\", \"open\": 81.63, \"high\": 89.5, \"low\": 78.13, \"close\": 84.21, \"volume\": 53130000, \"currency\": \"INR\"}, {\"date\": \"01/07/2011\", \"open\": 84.51, \"high\": 86.0, \"low\": 78.39, \"close\": 78.76, \"volume\": 35630000, \"currency\": \"INR\"}, {\"date\": \"01/08/2011\", \"open\": 79.14, \"high\": 86.21, \"low\": 75.72, \"close\": 76.53, \"volume\": 51950000, \"currency\": \"INR\"}, {\"date\": \"01/09/2011\", \"open\": 76.96, \"high\": 81.74, \"low\": 76.29, \"close\": 77.86, \"volume\": 35520000, \"currency\": \"INR\"}, {\"date\": \"01/10/2011\", \"open\": 78.25, \"high\": 80.95, \"low\": 71.74, \"close\": 72.75, \"volume\": 44040000, \"currency\": \"INR\"}, {\"date\": \"01/11/2011\", \"open\": 72.97, \"high\": 77.0, \"low\": 63.67, \"close\": 65.49, \"volume\": 47710000, \"currency\": \"INR\"}, {\"date\": \"01/12/2011\", \"open\": 65.75, \"high\": 69.5, \"low\": 62.13, \"close\": 63.44, \"volume\": 36700000, \"currency\": \"INR\"}, {\"date\": \"01/01/2012\", \"open\": 64.0, \"high\": 72.89, \"low\": 61.89, \"close\": 72.2, \"volume\": 23040000, \"currency\": \"INR\"}, {\"date\": \"01/02/2012\", \"open\": 72.25, \"high\": 72.91, \"low\": 67.0, \"close\": 70.95, \"volume\": 54010000, \"currency\": \"INR\"}, {\"date\": \"01/03/2012\", \"open\": 71.25, \"high\": 72.19, \"low\": 63.0, \"close\": 65.68, \"volume\": 43170000, \"currency\": \"INR\"}, {\"date\": \"01/04/2012\", \"open\": 65.47, \"high\": 67.18, \"low\": 62.05, \"close\": 66.39, \"volume\": 27520000, \"currency\": \"INR\"}, {\"date\": \"01/05/2012\", \"open\": 66.25, \"high\": 72.47, \"low\": 58.84, \"close\": 63.9, \"volume\": 42370000, \"currency\": \"INR\"}, {\"date\": \"01/06/2012\", \"open\": 63.9, \"high\": 67.18, \"low\": 59.9, \"close\": 63.94, \"volume\": 49400000, \"currency\": \"INR\"}, {\"date\": \"01/07/2012\", \"open\": 63.78, \"high\": 69.04, \"low\": 63.16, \"close\": 67.47, \"volume\": 31430000, \"currency\": \"INR\"}, {\"date\": \"01/08/2012\", \"open\": 67.25, \"high\": 67.93, \"low\": 60.53, \"close\": 60.64, \"volume\": 29420000, \"currency\": \"INR\"}, {\"date\": \"01/09/2012\", \"open\": 61.14, \"high\": 67.0, \"low\": 59.55, \"close\": 62.63, \"volume\": 36370000, \"currency\": \"INR\"}, {\"date\": \"01/10/2012\", \"open\": 62.8, \"high\": 67.5, \"low\": 62.65, \"close\": 65.13, \"volume\": 33070000, \"currency\": \"INR\"}, {\"date\": \"01/11/2012\", \"open\": 65.49, \"high\": 73.75, \"low\": 63.6, \"close\": 65.94, \"volume\": 26760000, \"currency\": \"INR\"}, {\"date\": \"01/12/2012\", \"open\": 65.89, \"high\": 67.95, \"low\": 64.14, \"close\": 67.47, \"volume\": 27800000, \"currency\": \"INR\"}, {\"date\": \"01/01/2013\", \"open\": 67.74, \"high\": 93.5, \"low\": 66.18, \"close\": 81.82, \"volume\": 168370000, \"currency\": \"INR\"}, {\"date\": \"01/02/2013\", \"open\": 82.25, \"high\": 85.36, \"low\": 72.15, \"close\": 73.18, \"volume\": 78130000, \"currency\": \"INR\"}, {\"date\": \"01/03/2013\", \"open\": 73.25, \"high\": 80.01, \"low\": 67.49, \"close\": 70.4, \"volume\": 44330000, \"currency\": \"INR\"}, {\"date\": \"01/04/2013\", \"open\": 70.36, \"high\": 77.25, \"low\": 69.53, \"close\": 74.85, \"volume\": 34250000, \"currency\": \"INR\"}, {\"date\": \"01/05/2013\", \"open\": 75.5, \"high\": 80.15, \"low\": 71.25, \"close\": 71.46, \"volume\": 47870000, \"currency\": \"INR\"}, {\"date\": \"01/06/2013\", \"open\": 72.03, \"high\": 72.68, \"low\": 54.63, \"close\": 58.69, \"volume\": 42980000, \"currency\": \"INR\"}, {\"date\": \"01/07/2013\", \"open\": 59.45, \"high\": 60.38, \"low\": 46.5, \"close\": 51.22, \"volume\": 40350000, \"currency\": \"INR\"}, {\"date\": \"01/08/2013\", \"open\": 52.5, \"high\": 54.42, \"low\": 46.88, \"close\": 52.35, \"volume\": 41060000, \"currency\": \"INR\"}, {\"date\": \"01/09/2013\", \"open\": 53.14, \"high\": 59.6, \"low\": 51.08, \"close\": 51.96, \"volume\": 54340000, \"currency\": \"INR\"}, {\"date\": \"01/10/2013\", \"open\": 51.5, \"high\": 53.54, \"low\": 49.09, \"close\": 50.51, \"volume\": 40440000, \"currency\": \"INR\"}, {\"date\": \"01/11/2013\", \"open\": 50.7, \"high\": 55.35, \"low\": 49.01, \"close\": 50.26, \"volume\": 38000000, \"currency\": \"INR\"}, {\"date\": \"01/12/2013\", \"open\": 50.97, \"high\": 54.2, \"low\": 49.01, \"close\": 53.54, \"volume\": 33980000, \"currency\": \"INR\"}, {\"date\": \"01/01/2014\", \"open\": 53.15, \"high\": 61.75, \"low\": 48.44, \"close\": 61.34, \"volume\": 74640000, \"currency\": \"INR\"}, {\"date\": \"01/02/2014\", \"open\": 61.25, \"high\": 65.01, \"low\": 58.3, \"close\": 62.09, \"volume\": 39420000, \"currency\": \"INR\"}, {\"date\": \"01/03/2014\", \"open\": 62.04, \"high\": 72.38, \"low\": 60.25, \"close\": 70.41, \"volume\": 80490000, \"currency\": \"INR\"}, {\"date\": \"01/04/2014\", \"open\": 70.18, \"high\": 71.5, \"low\": 64.54, \"close\": 65.86, \"volume\": 73060000, \"currency\": \"INR\"}, {\"date\": \"01/05/2014\", \"open\": 66.55, \"high\": 95.36, \"low\": 65.96, \"close\": 90.03, \"volume\": 124750000, \"currency\": \"INR\"}, {\"date\": \"01/06/2014\", \"open\": 90.03, \"high\": 96.26, \"low\": 79.54, \"close\": 86.15, \"volume\": 120190000, \"currency\": \"INR\"}, {\"date\": \"01/07/2014\", \"open\": 87.88, \"high\": 88.75, \"low\": 79.89, \"close\": 82.81, \"volume\": 63590000, \"currency\": \"INR\"}, {\"date\": \"01/08/2014\", \"open\": 82.7, \"high\": 93.38, \"low\": 80.88, \"close\": 89.85, \"volume\": 82170000, \"currency\": \"INR\"}, {\"date\": \"01/09/2014\", \"open\": 90.22, \"high\": 102.8, \"low\": 83.51, \"close\": 90.6, \"volume\": 112880000, \"currency\": \"INR\"}, {\"date\": \"01/10/2014\", \"open\": 91.8, \"high\": 98.5, \"low\": 87.89, \"close\": 91.04, \"volume\": 96010000, \"currency\": \"INR\"}, {\"date\": \"01/11/2014\", \"open\": 91.04, \"high\": 96.5, \"low\": 84.18, \"close\": 91.24, \"volume\": 120480000, \"currency\": \"INR\"}, {\"date\": \"01/12/2014\", \"open\": 93.05, \"high\": 93.05, \"low\": 79.09, \"close\": 83.06, \"volume\": 90220000, \"currency\": \"INR\"}, {\"date\": \"01/01/2015\", \"open\": 83.19, \"high\": 88.75, \"low\": 81.66, \"close\": 86.82, \"volume\": 72300000, \"currency\": \"INR\"}, {\"date\": \"01/02/2015\", \"open\": 86.75, \"high\": 86.86, \"low\": 76.69, \"close\": 83.07, \"volume\": 72930000, \"currency\": \"INR\"}, {\"date\": \"01/03/2015\", \"open\": 84.7, \"high\": 93.85, \"low\": 84.25, \"close\": 92.16, \"volume\": 79780000, \"currency\": \"INR\"}, {\"date\": \"01/04/2015\", \"open\": 92.44, \"high\": 96.5, \"low\": 86.34, \"close\": 90.3, \"volume\": 70940000, \"currency\": \"INR\"}, {\"date\": \"01/05/2015\", \"open\": 92.11, \"high\": 93.66, \"low\": 80.85, \"close\": 89.05, \"volume\": 73860000, \"currency\": \"INR\"}, {\"date\": \"01/06/2015\", \"open\": 89.25, \"high\": 100.46, \"low\": 84.05, \"close\": 96.35, \"volume\": 104190000, \"currency\": \"INR\"}, {\"date\": \"01/07/2015\", \"open\": 95.75, \"high\": 116.47, \"low\": 95.75, \"close\": 107.84, \"volume\": 188030000, \"currency\": \"INR\"}, {\"date\": \"01/08/2015\", \"open\": 109.29, \"high\": 110.26, \"low\": 91.5, \"close\": 103.61, \"volume\": 339830016, \"currency\": \"INR\"}, {\"date\": \"01/09/2015\", \"open\": 102.54, \"high\": 105.5, \"low\": 96.0, \"close\": 100.55, \"volume\": 205140000, \"currency\": \"INR\"}, {\"date\": \"01/10/2015\", \"open\": 100.74, \"high\": 102.63, \"low\": 97.78, \"close\": 99.94, \"volume\": 97730000, \"currency\": \"INR\"}, {\"date\": \"01/11/2015\", \"open\": 100.4, \"high\": 107.06, \"low\": 96.75, \"close\": 105.26, \"volume\": 137280000, \"currency\": \"INR\"}, {\"date\": \"01/12/2015\", \"open\": 105.9, \"high\": 109.9, \"low\": 102.43, \"close\": 107.14, \"volume\": 119990000, \"currency\": \"INR\"}, {\"date\": \"01/01/2016\", \"open\": 107.03, \"high\": 114.0, \"low\": 97.68, \"close\": 100.57, \"volume\": 109240000, \"currency\": \"INR\"}, {\"date\": \"01/02/2016\", \"open\": 101.25, \"high\": 101.53, \"low\": 86.22, \"close\": 91.91, \"volume\": 99880000, \"currency\": \"INR\"}, {\"date\": \"01/03/2016\", \"open\": 93.22, \"high\": 102.15, \"low\": 92.75, \"close\": 98.4, \"volume\": 104750000, \"currency\": \"INR\"}, {\"date\": \"01/04/2016\", \"open\": 98.91, \"high\": 109.93, \"low\": 97.9, \"close\": 108.31, \"volume\": 75970000, \"currency\": \"INR\"}, {\"date\": \"01/05/2016\", \"open\": 108.63, \"high\": 109.0, \"low\": 98.14, \"close\": 104.03, \"volume\": 115660000, \"currency\": \"INR\"}, {\"date\": \"01/06/2016\", \"open\": 104.5, \"high\": 111.25, \"low\": 101.89, \"close\": 110.25, \"volume\": 120170000, \"currency\": \"INR\"}, {\"date\": \"01/07/2016\", \"open\": 110.53, \"high\": 137.48, \"low\": 110.5, \"close\": 136.1, \"volume\": 237170000, \"currency\": \"INR\"}, {\"date\": \"01/08/2016\", \"open\": 137.24, \"high\": 148.34, \"low\": 132.84, \"close\": 143.85, \"volume\": 282009984, \"currency\": \"INR\"}, {\"date\": \"01/09/2016\", \"open\": 145.0, \"high\": 149.86, \"low\": 137.57, \"close\": 145.63, \"volume\": 189240000, \"currency\": \"INR\"}, {\"date\": \"01/10/2016\", \"open\": 146.96, \"high\": 166.65, \"low\": 146.34, \"close\": 161.82, \"volume\": 192920000, \"currency\": \"INR\"}, {\"date\": \"01/11/2016\", \"open\": 163.45, \"high\": 163.9, \"low\": 140.85, \"close\": 153.35, \"volume\": 143670000, \"currency\": \"INR\"}, {\"date\": \"01/12/2016\", \"open\": 153.45, \"high\": 163.48, \"low\": 145.1, \"close\": 162.52, \"volume\": 162200000, \"currency\": \"INR\"}, {\"date\": \"01/01/2017\", \"open\": 163.9, \"high\": 196.25, \"low\": 162.98, \"close\": 183.2, \"volume\": 225590000, \"currency\": \"INR\"}, {\"date\": \"01/02/2017\", \"open\": 185.0, \"high\": 202.0, \"low\": 181.68, \"close\": 192.52, \"volume\": 177230000, \"currency\": \"INR\"}, {\"date\": \"01/03/2017\", \"open\": 192.98, \"high\": 195.75, \"low\": 183.1, \"close\": 193.52, \"volume\": 199540000, \"currency\": \"INR\"}, {\"date\": \"01/04/2017\", \"open\": 193.52, \"high\": 223.7, \"low\": 189.38, \"close\": 220.02, \"volume\": 171650000, \"currency\": \"INR\"}, {\"date\": \"01/05/2017\", \"open\": 220.5, \"high\": 225.45, \"low\": 208.0, \"close\": 214.73, \"volume\": 307780000, \"currency\": \"INR\"}, {\"date\": \"01/06/2017\", \"open\": 214.2, \"high\": 215.32, \"low\": 188.1, \"close\": 192.6, \"volume\": 172410000, \"currency\": \"INR\"}, {\"date\": \"01/07/2017\", \"open\": 192.6, \"high\": 199.3, \"low\": 182.05, \"close\": 183.82, \"volume\": 157260000, \"currency\": \"INR\"}, {\"date\": \"01/08/2017\", \"open\": 186.0, \"high\": 231.48, \"low\": 183.05, \"close\": 227.35, \"volume\": 269620000, \"currency\": \"INR\"}, {\"date\": \"01/09/2017\", \"open\": 229.25, \"high\": 229.25, \"low\": 187.25, \"close\": 200.25, \"volume\": 202550000, \"currency\": \"INR\"}, {\"date\": \"01/10/2017\", \"open\": 202.55, \"high\": 221.0, \"low\": 199.05, \"close\": 207.75, \"volume\": 184120000, \"currency\": \"INR\"}, {\"date\": \"01/11/2017\", \"open\": 208.5, \"high\": 210.5, \"low\": 192.6, \"close\": 196.75, \"volume\": 171210000, \"currency\": \"INR\"}, {\"date\": \"01/12/2017\", \"open\": 196.5, \"high\": 208.5, \"low\": 191.0, \"close\": 194.27, \"volume\": 131490000, \"currency\": \"INR\"}, {\"date\": \"01/01/2018\", \"open\": 195.0, \"high\": 213.7, \"low\": 187.13, \"close\": 208.8, \"volume\": 223520000, \"currency\": \"INR\"}, {\"date\": \"01/02/2018\", \"open\": 209.8, \"high\": 211.1, \"low\": 180.32, \"close\": 189.65, \"volume\": 178510000, \"currency\": \"INR\"}, {\"date\": \"01/03/2018\", \"open\": 189.5, \"high\": 206.45, \"low\": 164.35, \"close\": 176.6, \"volume\": 316660000, \"currency\": \"INR\"}, {\"date\": \"01/04/2018\", \"open\": 177.9, \"high\": 181.3, \"low\": 156.75, \"close\": 162.3, \"volume\": 229690000, \"currency\": \"INR\"}, {\"date\": \"01/05/2018\", \"open\": 163.4, \"high\": 177.0, \"low\": 151.1, \"close\": 174.1, \"volume\": 271240000, \"currency\": \"INR\"}, {\"date\": \"01/06/2018\", \"open\": 174.1, \"high\": 177.2, \"low\": 150.0, \"close\": 156.0, \"volume\": 190820000, \"currency\": \"INR\"}, {\"date\": \"01/07/2018\", \"open\": 156.2, \"high\": 169.1, \"low\": 151.2, \"close\": 164.35, \"volume\": 186190000, \"currency\": \"INR\"}, {\"date\": \"01/08/2018\", \"open\": 166.2, \"high\": 171.8, \"low\": 151.5, \"close\": 155.55, \"volume\": 127160000, \"currency\": \"INR\"}, {\"date\": \"01/09/2018\", \"open\": 157.0, \"high\": 160.2, \"low\": 145.55, \"close\": 153.35, \"volume\": 134490000, \"currency\": \"INR\"}, {\"date\": \"01/10/2018\", \"open\": 153.0, \"high\": 159.1, \"low\": 105.25, \"close\": 138.45, \"volume\": 324889984, \"currency\": \"INR\"}, {\"date\": \"01/11/2018\", \"open\": 139.75, \"high\": 155.5, \"low\": 132.1, \"close\": 134.6, \"volume\": 290009984, \"currency\": \"INR\"}, {\"date\": \"01/12/2018\", \"open\": 133.7, \"high\": 148.25, \"low\": 127.5, \"close\": 137.05, \"volume\": 419500000, \"currency\": \"INR\"}, {\"date\": \"01/01/2019\", \"open\": 137.2, \"high\": 139.55, \"low\": 129.45, \"close\": 136.85, \"volume\": 213650000, \"currency\": \"INR\"}, {\"date\": \"01/02/2019\", \"open\": 137.35, \"high\": 146.8, \"low\": 120.95, \"close\": 144.6, \"volume\": 261450000, \"currency\": \"INR\"}, {\"date\": \"01/03/2019\", \"open\": 144.9, \"high\": 169.75, \"low\": 143.25, \"close\": 162.85, \"volume\": 400049984, \"currency\": \"INR\"}, {\"date\": \"01/04/2019\", \"open\": 163.1, \"high\": 163.8, \"low\": 146.85, \"close\": 158.05, \"volume\": 244470000, \"currency\": \"INR\"}, {\"date\": \"01/05/2019\", \"open\": 159.0, \"high\": 168.8, \"low\": 141.5, \"close\": 165.55, \"volume\": 259980000, \"currency\": \"INR\"}, {\"date\": \"01/06/2019\", \"open\": 167.8, \"high\": 170.75, \"low\": 150.8, \"close\": 155.9, \"volume\": 147720000, \"currency\": \"INR\"}, {\"date\": \"01/07/2019\", \"open\": 155.9, \"high\": 157.5, \"low\": 132.0, \"close\": 139.3, \"volume\": 443209984, \"currency\": \"INR\"}, {\"date\": \"01/08/2019\", \"open\": 137.95, \"high\": 141.9, \"low\": 116.25, \"close\": 122.45, \"volume\": 244300000, \"currency\": \"INR\"}, {\"date\": \"01/09/2019\", \"open\": 117.75, \"high\": 149.45, \"low\": 116.25, \"close\": 147.4, \"volume\": 315710016, \"currency\": \"INR\"}, {\"date\": \"01/10/2019\", \"open\": 149.8, \"high\": 156.0, \"low\": 140.05, \"close\": 146.8, \"volume\": 259240000, \"currency\": \"INR\"}, {\"date\": \"01/11/2019\", \"open\": 141.0, \"high\": 144.0, \"low\": 128.35, \"close\": 131.4, \"volume\": 191010000, \"currency\": \"INR\"}, {\"date\": \"01/12/2019\", \"open\": 131.5, \"high\": 131.6, \"low\": 121.85, \"close\": 125.55, \"volume\": 126880000, \"currency\": \"INR\"}, {\"date\": \"01/01/2020\", \"open\": 125.95, \"high\": 128.2, \"low\": 111.95, \"close\": 113.45, \"volume\": 611420032, \"currency\": \"INR\"}, {\"date\": \"01/02/2020\", \"open\": 113.35, \"high\": 118.35, \"low\": 100.9, \"close\": 105.75, \"volume\": 277590016, \"currency\": \"INR\"}, {\"date\": \"01/03/2020\", \"open\": 108.45, \"high\": 112.9, \"low\": 74.45, \"close\": 81.65, \"volume\": 421110016, \"currency\": \"INR\"}, {\"date\": \"01/04/2020\", \"open\": 81.65, \"high\": 89.5, \"low\": 76.6, \"close\": 84.2, \"volume\": 246530000, \"currency\": \"INR\"}, {\"date\": \"01/05/2020\", \"open\": 82.65, \"high\": 84.7, \"low\": 71.15, \"close\": 83.2, \"volume\": 294510016, \"currency\": \"INR\"}, {\"date\": \"01/06/2020\", \"open\": 85.3, \"high\": 96.4, \"low\": 83.75, \"close\": 85.35, \"volume\": 538560000, \"currency\": \"INR\"}, {\"date\": \"01/07/2020\", \"open\": 85.65, \"high\": 95.65, \"low\": 82.5, \"close\": 88.45, \"volume\": 615500032, \"currency\": \"INR\"}, {\"date\": \"01/08/2020\", \"open\": 88.35, \"high\": 91.75, \"low\": 84.55, \"close\": 85.8, \"volume\": 464670016, \"currency\": \"INR\"}, {\"date\": \"01/09/2020\", \"open\": 85.8, \"high\": 86.6, \"low\": 71.65, \"close\": 73.9, \"volume\": 401520000, \"currency\": \"INR\"}, {\"date\": \"01/10/2020\", \"open\": 73.95, \"high\": 81.9, \"low\": 73.45, \"close\": 79.55, \"volume\": 396840000, \"currency\": \"INR\"}, {\"date\": \"01/11/2020\", \"open\": 80.05, \"high\": 87.35, \"low\": 76.85, \"close\": 84.6, \"volume\": 340480000, \"currency\": \"INR\"}, {\"date\": \"01/12/2020\", \"open\": 85.0, \"high\": 97.5, \"low\": 84.1, \"close\": 90.95, \"volume\": 576030016, \"currency\": \"INR\"}, {\"date\": \"01/01/2021\", \"open\": 91.3, \"high\": 103.9, \"low\": 90.25, \"close\": 93.25, \"volume\": 543299968, \"currency\": \"INR\"}, {\"date\": \"01/02/2021\", \"open\": 95.8, \"high\": 104.6, \"low\": 93.4, \"close\": 98.05, \"volume\": 715260032, \"currency\": \"INR\"}, {\"date\": \"01/03/2021\", \"open\": 101.0, \"high\": 105.0, \"low\": 90.1, \"close\": 91.85, \"volume\": 567440000, \"currency\": \"INR\"}, {\"date\": \"01/04/2021\", \"open\": 92.2, \"high\": 93.7, \"low\": 86.75, \"close\": 90.85, \"volume\": 29815698, \"currency\": \"INR\"}]}'"
      ]
     },
     "execution_count": 7,
     "metadata": {},
     "output_type": "execute_result"
    }
   ],
   "source": [
    "df"
   ]
  },
  {
   "cell_type": "code",
   "execution_count": 8,
   "metadata": {},
   "outputs": [],
   "source": [
    "df = ip.get_stock_historical_data(stock='IOC', country=\"India\", from_date='01/01/2009', to_date='30/04/2021', interval='Monthly')"
   ]
  },
  {
   "cell_type": "code",
   "execution_count": 9,
   "metadata": {},
   "outputs": [
    {
     "data": {
      "text/html": [
       "<div>\n",
       "<style scoped>\n",
       "    .dataframe tbody tr th:only-of-type {\n",
       "        vertical-align: middle;\n",
       "    }\n",
       "\n",
       "    .dataframe tbody tr th {\n",
       "        vertical-align: top;\n",
       "    }\n",
       "\n",
       "    .dataframe thead th {\n",
       "        text-align: right;\n",
       "    }\n",
       "</style>\n",
       "<table border=\"1\" class=\"dataframe\">\n",
       "  <thead>\n",
       "    <tr style=\"text-align: right;\">\n",
       "      <th></th>\n",
       "      <th>Open</th>\n",
       "      <th>High</th>\n",
       "      <th>Low</th>\n",
       "      <th>Close</th>\n",
       "      <th>Volume</th>\n",
       "      <th>Currency</th>\n",
       "    </tr>\n",
       "    <tr>\n",
       "      <th>Date</th>\n",
       "      <th></th>\n",
       "      <th></th>\n",
       "      <th></th>\n",
       "      <th></th>\n",
       "      <th></th>\n",
       "      <th></th>\n",
       "    </tr>\n",
       "  </thead>\n",
       "  <tbody>\n",
       "    <tr>\n",
       "      <th>2009-01-01</th>\n",
       "      <td>50.70</td>\n",
       "      <td>56.73</td>\n",
       "      <td>44.25</td>\n",
       "      <td>55.77</td>\n",
       "      <td>59752080</td>\n",
       "      <td>INR</td>\n",
       "    </tr>\n",
       "    <tr>\n",
       "      <th>2009-02-01</th>\n",
       "      <td>56.00</td>\n",
       "      <td>58.36</td>\n",
       "      <td>52.51</td>\n",
       "      <td>54.71</td>\n",
       "      <td>37573528</td>\n",
       "      <td>INR</td>\n",
       "    </tr>\n",
       "    <tr>\n",
       "      <th>2009-03-01</th>\n",
       "      <td>53.89</td>\n",
       "      <td>56.34</td>\n",
       "      <td>47.26</td>\n",
       "      <td>48.48</td>\n",
       "      <td>49605792</td>\n",
       "      <td>INR</td>\n",
       "    </tr>\n",
       "    <tr>\n",
       "      <th>2009-04-01</th>\n",
       "      <td>49.87</td>\n",
       "      <td>56.88</td>\n",
       "      <td>48.52</td>\n",
       "      <td>55.34</td>\n",
       "      <td>33818712</td>\n",
       "      <td>INR</td>\n",
       "    </tr>\n",
       "    <tr>\n",
       "      <th>2009-05-01</th>\n",
       "      <td>55.62</td>\n",
       "      <td>82.75</td>\n",
       "      <td>50.00</td>\n",
       "      <td>76.12</td>\n",
       "      <td>103288344</td>\n",
       "      <td>INR</td>\n",
       "    </tr>\n",
       "  </tbody>\n",
       "</table>\n",
       "</div>"
      ],
      "text/plain": [
       "             Open   High    Low  Close     Volume Currency\n",
       "Date                                                      \n",
       "2009-01-01  50.70  56.73  44.25  55.77   59752080      INR\n",
       "2009-02-01  56.00  58.36  52.51  54.71   37573528      INR\n",
       "2009-03-01  53.89  56.34  47.26  48.48   49605792      INR\n",
       "2009-04-01  49.87  56.88  48.52  55.34   33818712      INR\n",
       "2009-05-01  55.62  82.75  50.00  76.12  103288344      INR"
      ]
     },
     "execution_count": 9,
     "metadata": {},
     "output_type": "execute_result"
    }
   ],
   "source": [
    "df.head()"
   ]
  },
  {
   "cell_type": "code",
   "execution_count": 10,
   "metadata": {},
   "outputs": [
    {
     "data": {
      "text/plain": [
       "90.85"
      ]
     },
     "execution_count": 10,
     "metadata": {},
     "output_type": "execute_result"
    }
   ],
   "source": [
    "df['Close'][-1]"
   ]
  },
  {
   "cell_type": "code",
   "execution_count": 14,
   "metadata": {},
   "outputs": [
    {
     "data": {
      "text/plain": [
       "79.55"
      ]
     },
     "execution_count": 14,
     "metadata": {},
     "output_type": "execute_result"
    }
   ],
   "source": [
    "df['Close'][-7]"
   ]
  },
  {
   "cell_type": "code",
   "execution_count": 18,
   "metadata": {},
   "outputs": [],
   "source": [
    "dfj = ip.get_stock_historical_data(stock='IOC', country=\"India\", from_date='01/01/2020', to_date='30/04/2021', interval='Monthly', as_json=True)"
   ]
  },
  {
   "cell_type": "code",
   "execution_count": 19,
   "metadata": {},
   "outputs": [],
   "source": [
    "import json\n"
   ]
  },
  {
   "cell_type": "code",
   "execution_count": 20,
   "metadata": {},
   "outputs": [],
   "source": [
    "dfj = json.loads(dfj)"
   ]
  },
  {
   "cell_type": "code",
   "execution_count": 28,
   "metadata": {},
   "outputs": [],
   "source": [
    "dfj = dfj['historical']"
   ]
  },
  {
   "cell_type": "code",
   "execution_count": 29,
   "metadata": {},
   "outputs": [
    {
     "data": {
      "text/plain": [
       "{'date': '01/01/2020',\n",
       " 'open': 125.95,\n",
       " 'high': 128.2,\n",
       " 'low': 111.95,\n",
       " 'close': 113.45,\n",
       " 'volume': 611420032,\n",
       " 'currency': 'INR'}"
      ]
     },
     "execution_count": 29,
     "metadata": {},
     "output_type": "execute_result"
    }
   ],
   "source": [
    "dfj[0]"
   ]
  },
  {
   "cell_type": "code",
   "execution_count": 31,
   "metadata": {},
   "outputs": [
    {
     "data": {
      "text/plain": [
       "'01/01/2020'"
      ]
     },
     "execution_count": 31,
     "metadata": {},
     "output_type": "execute_result"
    }
   ],
   "source": [
    "dfj[0]['date']"
   ]
  },
  {
   "cell_type": "code",
   "execution_count": 32,
   "metadata": {},
   "outputs": [
    {
     "data": {
      "text/plain": [
       "'01/04/2021'"
      ]
     },
     "execution_count": 32,
     "metadata": {},
     "output_type": "execute_result"
    }
   ],
   "source": [
    "dfj[-1]['date']"
   ]
  },
  {
   "cell_type": "code",
   "execution_count": 40,
   "metadata": {},
   "outputs": [
    {
     "data": {
      "text/plain": [
       "Timestamp('2009-01-01 00:00:00')"
      ]
     },
     "execution_count": 40,
     "metadata": {},
     "output_type": "execute_result"
    }
   ],
   "source": [
    "df.index[0]"
   ]
  },
  {
   "cell_type": "code",
   "execution_count": 42,
   "metadata": {},
   "outputs": [],
   "source": [
    "import pandas as pd\n"
   ]
  },
  {
   "cell_type": "code",
   "execution_count": 43,
   "metadata": {},
   "outputs": [],
   "source": [
    "dates = pd.date_range('20130101', periods=6)"
   ]
  },
  {
   "cell_type": "code",
   "execution_count": 48,
   "metadata": {},
   "outputs": [
    {
     "data": {
      "text/plain": [
       "pandas.core.indexes.datetimes.DatetimeIndex"
      ]
     },
     "execution_count": 48,
     "metadata": {},
     "output_type": "execute_result"
    }
   ],
   "source": [
    "type(df.index)"
   ]
  },
  {
   "cell_type": "code",
   "execution_count": 49,
   "metadata": {},
   "outputs": [
    {
     "data": {
      "text/plain": [
       "True"
      ]
     },
     "execution_count": 49,
     "metadata": {},
     "output_type": "execute_result"
    }
   ],
   "source": [
    "isinstance(dates, pd.DatetimeIndex)"
   ]
  },
  {
   "cell_type": "code",
   "execution_count": 50,
   "metadata": {},
   "outputs": [
    {
     "data": {
      "text/plain": [
       "True"
      ]
     },
     "execution_count": 50,
     "metadata": {},
     "output_type": "execute_result"
    }
   ],
   "source": [
    "dates = pd.date_range('20000101', periods=6)\n",
    "isinstance(dates, pd.DatetimeIndex)"
   ]
  },
  {
   "cell_type": "code",
   "execution_count": 65,
   "metadata": {},
   "outputs": [
    {
     "name": "stdout",
     "output_type": "stream",
     "text": [
      "date exist\n"
     ]
    }
   ],
   "source": [
    "dtt = pd.to_datetime('2021-01-01')\n",
    "if (dtt in df.index.values):\n",
    "    print ('date exist')\n",
    "else:\n",
    "    print('nope')"
   ]
  },
  {
   "cell_type": "code",
   "execution_count": 68,
   "metadata": {},
   "outputs": [
    {
     "name": "stdout",
     "output_type": "stream",
     "text": [
      "date exist\n"
     ]
    }
   ],
   "source": [
    "dates = pd.date_range(start='1/1/2018', end='1/08/2018')\n",
    "if (dtt in df.index.values):\n",
    "    print('date exist')\n"
   ]
  },
  {
   "cell_type": "code",
   "execution_count": 69,
   "metadata": {},
   "outputs": [],
   "source": [
    "p = df['Close'][-1]"
   ]
  },
  {
   "cell_type": "code",
   "execution_count": 70,
   "metadata": {},
   "outputs": [],
   "source": [
    "p_db = df['Close'][-2]"
   ]
  },
  {
   "cell_type": "code",
   "execution_count": 71,
   "metadata": {},
   "outputs": [],
   "source": [
    "p_wb = df['Close'][-5]"
   ]
  },
  {
   "cell_type": "code",
   "execution_count": 72,
   "metadata": {},
   "outputs": [],
   "source": [
    "import datetime"
   ]
  },
  {
   "cell_type": "code",
   "execution_count": 75,
   "metadata": {},
   "outputs": [],
   "source": [
    "dt = datetime.datetime.now()\n",
    "dt_mb = dt - datetime.timedelta(days=30)"
   ]
  },
  {
   "cell_type": "code",
   "execution_count": 78,
   "metadata": {},
   "outputs": [
    {
     "data": {
      "text/plain": [
       "datetime.date(2021, 4, 4)"
      ]
     },
     "execution_count": 78,
     "metadata": {},
     "output_type": "execute_result"
    }
   ],
   "source": [
    "dt_mb.date()"
   ]
  },
  {
   "cell_type": "code",
   "execution_count": 79,
   "metadata": {},
   "outputs": [
    {
     "name": "stdout",
     "output_type": "stream",
     "text": [
      "no\n"
     ]
    }
   ],
   "source": [
    "if (dt_mb.date() in df.index.values):\n",
    "    print('yes')\n",
    "else:\n",
    "    print('no')"
   ]
  },
  {
   "cell_type": "code",
   "execution_count": 80,
   "metadata": {},
   "outputs": [],
   "source": [
    "df = ip.get_stock_historical_data(stock='IOC', country=\"India\", from_date='01/04/2020', to_date='01/05/2021', interval='Daily')"
   ]
  },
  {
   "cell_type": "code",
   "execution_count": 81,
   "metadata": {},
   "outputs": [],
   "source": [
    "p = df['Close'][-1]\n",
    "p_db = df['Close'][-2]\n",
    "p_wb = df['Close'][-5]"
   ]
  },
  {
   "cell_type": "code",
   "execution_count": 84,
   "metadata": {},
   "outputs": [
    {
     "name": "stdout",
     "output_type": "stream",
     "text": [
      "no\n"
     ]
    }
   ],
   "source": [
    "if (dt_mb in df.index.values):\n",
    "    print('yes')\n",
    "else:\n",
    "    print('no')"
   ]
  },
  {
   "cell_type": "code",
   "execution_count": 85,
   "metadata": {},
   "outputs": [
    {
     "data": {
      "text/plain": [
       "numpy.datetime64('2021-03-16T00:00:00.000000000')"
      ]
     },
     "execution_count": 85,
     "metadata": {},
     "output_type": "execute_result"
    }
   ],
   "source": [
    "df.index.values[-30]"
   ]
  },
  {
   "cell_type": "code",
   "execution_count": 95,
   "metadata": {},
   "outputs": [],
   "source": [
    "dt_mb = dt - datetime.timedelta(days=30)"
   ]
  },
  {
   "cell_type": "code",
   "execution_count": 96,
   "metadata": {},
   "outputs": [],
   "source": [
    "dt_mb = dt_mb.strftime('%Y-%m-%d')"
   ]
  },
  {
   "cell_type": "markdown",
   "metadata": {},
   "source": [
    "dt_mb"
   ]
  },
  {
   "cell_type": "code",
   "execution_count": 97,
   "metadata": {},
   "outputs": [],
   "source": [
    "dt_mb = pd.to_datetime(dt_mb)"
   ]
  },
  {
   "cell_type": "code",
   "execution_count": 101,
   "metadata": {},
   "outputs": [
    {
     "data": {
      "text/plain": [
       "Timestamp('2021-04-04 00:00:00')"
      ]
     },
     "execution_count": 101,
     "metadata": {},
     "output_type": "execute_result"
    }
   ],
   "source": [
    "dt_mb"
   ]
  },
  {
   "cell_type": "code",
   "execution_count": 102,
   "metadata": {},
   "outputs": [
    {
     "name": "stdout",
     "output_type": "stream",
     "text": [
      "no\n"
     ]
    }
   ],
   "source": [
    "if (dt_mb in df.index.values):\n",
    "    print('yes')\n",
    "else:\n",
    "    print('no')"
   ]
  },
  {
   "cell_type": "code",
   "execution_count": 115,
   "metadata": {},
   "outputs": [],
   "source": [
    "dt = datetime.datetime.now()\n",
    "dt_yb = dt - datetime.timedelta(days=35)\n",
    "dt_yb = pd.to_datetime(dt_yb)"
   ]
  },
  {
   "cell_type": "code",
   "execution_count": 117,
   "metadata": {},
   "outputs": [
    {
     "name": "stdout",
     "output_type": "stream",
     "text": [
      "no\n"
     ]
    }
   ],
   "source": [
    "if (dt_yb in df.index.values):\n",
    "    print('yes')\n",
    "else:\n",
    "    print('no')"
   ]
  },
  {
   "cell_type": "code",
   "execution_count": 118,
   "metadata": {},
   "outputs": [
    {
     "data": {
      "text/plain": [
       "Timestamp('2021-03-30 03:00:53.984930')"
      ]
     },
     "execution_count": 118,
     "metadata": {},
     "output_type": "execute_result"
    }
   ],
   "source": [
    "dt_yb"
   ]
  },
  {
   "cell_type": "code",
   "execution_count": 121,
   "metadata": {},
   "outputs": [
    {
     "name": "stdout",
     "output_type": "stream",
     "text": [
      "yes\n"
     ]
    }
   ],
   "source": [
    "dt_mb = '2020-04-09'\n",
    "dt_mb = pd.to_datetime(dt_mb)\n",
    "if (dt_mb in df.index.values):\n",
    "    print('yes')\n",
    "else:\n",
    "    print('no')\n"
   ]
  },
  {
   "cell_type": "code",
   "execution_count": 124,
   "metadata": {},
   "outputs": [],
   "source": [
    "dtt = dt - datetime.timedelta(days=390)"
   ]
  },
  {
   "cell_type": "code",
   "execution_count": 125,
   "metadata": {},
   "outputs": [
    {
     "data": {
      "text/plain": [
       "datetime.datetime(2020, 4, 9, 3, 0, 53, 984930)"
      ]
     },
     "execution_count": 125,
     "metadata": {},
     "output_type": "execute_result"
    }
   ],
   "source": [
    "dtt"
   ]
  },
  {
   "cell_type": "code",
   "execution_count": 126,
   "metadata": {},
   "outputs": [],
   "source": [
    "dtt = dtt.strftime('%Y-%m-%d')"
   ]
  },
  {
   "cell_type": "code",
   "execution_count": 129,
   "metadata": {},
   "outputs": [
    {
     "data": {
      "text/plain": [
       "Timestamp('2020-04-09 00:00:00')"
      ]
     },
     "execution_count": 129,
     "metadata": {},
     "output_type": "execute_result"
    }
   ],
   "source": [
    "dtt = pd.to_datetime(dtt)\n",
    "dtt"
   ]
  },
  {
   "cell_type": "code",
   "execution_count": 130,
   "metadata": {},
   "outputs": [
    {
     "name": "stdout",
     "output_type": "stream",
     "text": [
      "yes\n"
     ]
    }
   ],
   "source": [
    "if (dtt in df.index.values):\n",
    "    print('yes')\n",
    "else:\n",
    "    print('no')"
   ]
  },
  {
   "cell_type": "code",
   "execution_count": 135,
   "metadata": {},
   "outputs": [],
   "source": [
    "try:\n",
    "    dtt = dt - datetime.timedelta(days=33)\n",
    "except:\n",
    "    dtt = dt - datetime.timedelta(days=32)"
   ]
  },
  {
   "cell_type": "code",
   "execution_count": 136,
   "metadata": {},
   "outputs": [],
   "source": [
    "dtt = dtt.strftime('%Y-%m-%d')"
   ]
  },
  {
   "cell_type": "code",
   "execution_count": 137,
   "metadata": {},
   "outputs": [
    {
     "data": {
      "text/plain": [
       "Timestamp('2021-04-01 00:00:00')"
      ]
     },
     "execution_count": 137,
     "metadata": {},
     "output_type": "execute_result"
    }
   ],
   "source": [
    "dtt = pd.to_datetime(dtt)\n",
    "dtt"
   ]
  },
  {
   "cell_type": "code",
   "execution_count": 138,
   "metadata": {},
   "outputs": [
    {
     "name": "stdout",
     "output_type": "stream",
     "text": [
      "yes\n"
     ]
    }
   ],
   "source": [
    "if (dtt in df.index.values):\n",
    "    print('yes')\n",
    "else:\n",
    "    print('no')"
   ]
  },
  {
   "cell_type": "code",
   "execution_count": 140,
   "metadata": {},
   "outputs": [
    {
     "data": {
      "text/plain": [
       "Open           92.00\n",
       "High           93.35\n",
       "Low            91.20\n",
       "Close          93.15\n",
       "Volume      14843941\n",
       "Currency         INR\n",
       "Name: 2021-04-01 00:00:00, dtype: object"
      ]
     },
     "execution_count": 140,
     "metadata": {},
     "output_type": "execute_result"
    }
   ],
   "source": [
    "df.loc[dtt]"
   ]
  },
  {
   "cell_type": "code",
   "execution_count": null,
   "metadata": {},
   "outputs": [],
   "source": []
  }
 ],
 "metadata": {
  "kernelspec": {
   "display_name": "Python 3",
   "language": "python",
   "name": "python3"
  },
  "language_info": {
   "codemirror_mode": {
    "name": "ipython",
    "version": 3
   },
   "file_extension": ".py",
   "mimetype": "text/x-python",
   "name": "python",
   "nbconvert_exporter": "python",
   "pygments_lexer": "ipython3",
   "version": "3.8.5"
  }
 },
 "nbformat": 4,
 "nbformat_minor": 4
}
