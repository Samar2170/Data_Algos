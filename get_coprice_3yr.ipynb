{
 "cells": [
  {
   "cell_type": "code",
   "execution_count": 1,
   "metadata": {},
   "outputs": [],
   "source": [
    "import pandas as pd\n",
    "import datetime as dt"
   ]
  },
  {
   "cell_type": "code",
   "execution_count": 2,
   "metadata": {},
   "outputs": [
    {
     "data": {
      "text/plain": [
       "pandas.core.series.Series"
      ]
     },
     "execution_count": 2,
     "metadata": {},
     "output_type": "execute_result"
    }
   ],
   "source": [
    "df = pd.read_csv('prices_stocksLT10yr.csv')\n",
    "type(df['date'])"
   ]
  },
  {
   "cell_type": "code",
   "execution_count": 3,
   "metadata": {},
   "outputs": [],
   "source": [
    "df['date'] = pd.to_datetime(df['date'])"
   ]
  },
  {
   "cell_type": "code",
   "execution_count": 4,
   "metadata": {},
   "outputs": [
    {
     "data": {
      "text/plain": [
       "pandas.core.series.Series"
      ]
     },
     "execution_count": 4,
     "metadata": {},
     "output_type": "execute_result"
    }
   ],
   "source": [
    "type(df['date'])"
   ]
  },
  {
   "cell_type": "code",
   "execution_count": 5,
   "metadata": {},
   "outputs": [
    {
     "data": {
      "text/plain": [
       "pandas._libs.tslibs.timestamps.Timestamp"
      ]
     },
     "execution_count": 5,
     "metadata": {},
     "output_type": "execute_result"
    }
   ],
   "source": [
    "dfd = df['date']\n",
    "type(dfd[0])"
   ]
  },
  {
   "cell_type": "code",
   "execution_count": 6,
   "metadata": {},
   "outputs": [],
   "source": [
    "start_date = \"2019-1-1\"\n",
    "end_date = \"2020-1-31\"\n",
    "\n",
    "after_start_date = df[\"date\"] >= start_date\n",
    "before_end_date = df[\"date\"] <= end_date\n",
    "between_two_dates = after_start_date & before_end_date\n",
    "filtered_dates = df.loc[between_two_dates]"
   ]
  },
  {
   "cell_type": "code",
   "execution_count": 7,
   "metadata": {},
   "outputs": [
    {
     "data": {
      "text/html": [
       "<div>\n",
       "<style scoped>\n",
       "    .dataframe tbody tr th:only-of-type {\n",
       "        vertical-align: middle;\n",
       "    }\n",
       "\n",
       "    .dataframe tbody tr th {\n",
       "        vertical-align: top;\n",
       "    }\n",
       "\n",
       "    .dataframe thead th {\n",
       "        text-align: right;\n",
       "    }\n",
       "</style>\n",
       "<table border=\"1\" class=\"dataframe\">\n",
       "  <thead>\n",
       "    <tr style=\"text-align: right;\">\n",
       "      <th></th>\n",
       "      <th>symbol</th>\n",
       "      <th>date</th>\n",
       "      <th>open</th>\n",
       "      <th>low</th>\n",
       "      <th>volume</th>\n",
       "      <th>high</th>\n",
       "      <th>close</th>\n",
       "      <th>adjclose</th>\n",
       "      <th>dividends</th>\n",
       "      <th>splits</th>\n",
       "    </tr>\n",
       "  </thead>\n",
       "  <tbody>\n",
       "    <tr>\n",
       "      <th>1887</th>\n",
       "      <td>LT.NS</td>\n",
       "      <td>2019-01-01</td>\n",
       "      <td>1445.000000</td>\n",
       "      <td>1425.199951</td>\n",
       "      <td>786846.0</td>\n",
       "      <td>1445.000000</td>\n",
       "      <td>1441.900024</td>\n",
       "      <td>1365.243896</td>\n",
       "      <td>0.0</td>\n",
       "      <td>0.0</td>\n",
       "    </tr>\n",
       "    <tr>\n",
       "      <th>1888</th>\n",
       "      <td>LT.NS</td>\n",
       "      <td>2019-01-02</td>\n",
       "      <td>1441.000000</td>\n",
       "      <td>1417.099976</td>\n",
       "      <td>2058504.0</td>\n",
       "      <td>1444.900024</td>\n",
       "      <td>1425.500000</td>\n",
       "      <td>1349.715820</td>\n",
       "      <td>0.0</td>\n",
       "      <td>0.0</td>\n",
       "    </tr>\n",
       "    <tr>\n",
       "      <th>1889</th>\n",
       "      <td>LT.NS</td>\n",
       "      <td>2019-01-03</td>\n",
       "      <td>1426.000000</td>\n",
       "      <td>1391.000000</td>\n",
       "      <td>2290756.0</td>\n",
       "      <td>1429.000000</td>\n",
       "      <td>1395.000000</td>\n",
       "      <td>1320.837158</td>\n",
       "      <td>0.0</td>\n",
       "      <td>0.0</td>\n",
       "    </tr>\n",
       "    <tr>\n",
       "      <th>1890</th>\n",
       "      <td>LT.NS</td>\n",
       "      <td>2019-01-04</td>\n",
       "      <td>1401.900024</td>\n",
       "      <td>1373.550049</td>\n",
       "      <td>2711485.0</td>\n",
       "      <td>1407.599976</td>\n",
       "      <td>1388.050049</td>\n",
       "      <td>1314.256836</td>\n",
       "      <td>0.0</td>\n",
       "      <td>0.0</td>\n",
       "    </tr>\n",
       "    <tr>\n",
       "      <th>1891</th>\n",
       "      <td>LT.NS</td>\n",
       "      <td>2019-01-07</td>\n",
       "      <td>1397.000000</td>\n",
       "      <td>1379.050049</td>\n",
       "      <td>1851513.0</td>\n",
       "      <td>1408.599976</td>\n",
       "      <td>1383.800049</td>\n",
       "      <td>1310.232788</td>\n",
       "      <td>0.0</td>\n",
       "      <td>0.0</td>\n",
       "    </tr>\n",
       "    <tr>\n",
       "      <th>...</th>\n",
       "      <td>...</td>\n",
       "      <td>...</td>\n",
       "      <td>...</td>\n",
       "      <td>...</td>\n",
       "      <td>...</td>\n",
       "      <td>...</td>\n",
       "      <td>...</td>\n",
       "      <td>...</td>\n",
       "      <td>...</td>\n",
       "      <td>...</td>\n",
       "    </tr>\n",
       "    <tr>\n",
       "      <th>2147</th>\n",
       "      <td>LT.NS</td>\n",
       "      <td>2020-01-27</td>\n",
       "      <td>1340.000000</td>\n",
       "      <td>1340.000000</td>\n",
       "      <td>2510013.0</td>\n",
       "      <td>1364.900024</td>\n",
       "      <td>1348.599976</td>\n",
       "      <td>1293.421509</td>\n",
       "      <td>0.0</td>\n",
       "      <td>0.0</td>\n",
       "    </tr>\n",
       "    <tr>\n",
       "      <th>2148</th>\n",
       "      <td>LT.NS</td>\n",
       "      <td>2020-01-28</td>\n",
       "      <td>1350.900024</td>\n",
       "      <td>1338.000000</td>\n",
       "      <td>2352852.0</td>\n",
       "      <td>1355.000000</td>\n",
       "      <td>1346.650024</td>\n",
       "      <td>1291.551514</td>\n",
       "      <td>0.0</td>\n",
       "      <td>0.0</td>\n",
       "    </tr>\n",
       "    <tr>\n",
       "      <th>2149</th>\n",
       "      <td>LT.NS</td>\n",
       "      <td>2020-01-29</td>\n",
       "      <td>1353.099976</td>\n",
       "      <td>1352.099976</td>\n",
       "      <td>3678474.0</td>\n",
       "      <td>1374.949951</td>\n",
       "      <td>1365.699951</td>\n",
       "      <td>1309.822021</td>\n",
       "      <td>0.0</td>\n",
       "      <td>0.0</td>\n",
       "    </tr>\n",
       "    <tr>\n",
       "      <th>2150</th>\n",
       "      <td>LT.NS</td>\n",
       "      <td>2020-01-30</td>\n",
       "      <td>1365.949951</td>\n",
       "      <td>1353.000000</td>\n",
       "      <td>2743506.0</td>\n",
       "      <td>1376.800049</td>\n",
       "      <td>1370.199951</td>\n",
       "      <td>1314.137817</td>\n",
       "      <td>0.0</td>\n",
       "      <td>0.0</td>\n",
       "    </tr>\n",
       "    <tr>\n",
       "      <th>2151</th>\n",
       "      <td>LT.NS</td>\n",
       "      <td>2020-01-31</td>\n",
       "      <td>1375.949951</td>\n",
       "      <td>1360.449951</td>\n",
       "      <td>3939306.0</td>\n",
       "      <td>1377.000000</td>\n",
       "      <td>1369.300049</td>\n",
       "      <td>1313.274658</td>\n",
       "      <td>0.0</td>\n",
       "      <td>0.0</td>\n",
       "    </tr>\n",
       "  </tbody>\n",
       "</table>\n",
       "<p>265 rows × 10 columns</p>\n",
       "</div>"
      ],
      "text/plain": [
       "     symbol       date         open          low     volume         high  \\\n",
       "1887  LT.NS 2019-01-01  1445.000000  1425.199951   786846.0  1445.000000   \n",
       "1888  LT.NS 2019-01-02  1441.000000  1417.099976  2058504.0  1444.900024   \n",
       "1889  LT.NS 2019-01-03  1426.000000  1391.000000  2290756.0  1429.000000   \n",
       "1890  LT.NS 2019-01-04  1401.900024  1373.550049  2711485.0  1407.599976   \n",
       "1891  LT.NS 2019-01-07  1397.000000  1379.050049  1851513.0  1408.599976   \n",
       "...     ...        ...          ...          ...        ...          ...   \n",
       "2147  LT.NS 2020-01-27  1340.000000  1340.000000  2510013.0  1364.900024   \n",
       "2148  LT.NS 2020-01-28  1350.900024  1338.000000  2352852.0  1355.000000   \n",
       "2149  LT.NS 2020-01-29  1353.099976  1352.099976  3678474.0  1374.949951   \n",
       "2150  LT.NS 2020-01-30  1365.949951  1353.000000  2743506.0  1376.800049   \n",
       "2151  LT.NS 2020-01-31  1375.949951  1360.449951  3939306.0  1377.000000   \n",
       "\n",
       "            close     adjclose  dividends  splits  \n",
       "1887  1441.900024  1365.243896        0.0     0.0  \n",
       "1888  1425.500000  1349.715820        0.0     0.0  \n",
       "1889  1395.000000  1320.837158        0.0     0.0  \n",
       "1890  1388.050049  1314.256836        0.0     0.0  \n",
       "1891  1383.800049  1310.232788        0.0     0.0  \n",
       "...           ...          ...        ...     ...  \n",
       "2147  1348.599976  1293.421509        0.0     0.0  \n",
       "2148  1346.650024  1291.551514        0.0     0.0  \n",
       "2149  1365.699951  1309.822021        0.0     0.0  \n",
       "2150  1370.199951  1314.137817        0.0     0.0  \n",
       "2151  1369.300049  1313.274658        0.0     0.0  \n",
       "\n",
       "[265 rows x 10 columns]"
      ]
     },
     "execution_count": 7,
     "metadata": {},
     "output_type": "execute_result"
    }
   ],
   "source": [
    "filtered_dates"
   ]
  },
  {
   "cell_type": "code",
   "execution_count": null,
   "metadata": {},
   "outputs": [],
   "source": [
    "start_date = \"2019-1-1\"\n",
    "end_date = \"2020-1-31\"\n",
    "\n",
    "after_start_date = df[\"date\"] >= start_date\n",
    "before_end_date = df[\"date\"] <= end_date\n",
    "between_two_dates = after_start_date & before_end_date\n",
    "filtered_dates = df.loc[between_two_dates]"
   ]
  }
 ],
 "metadata": {
  "kernelspec": {
   "display_name": "Python 3",
   "language": "python",
   "name": "python3"
  },
  "language_info": {
   "codemirror_mode": {
    "name": "ipython",
    "version": 3
   },
   "file_extension": ".py",
   "mimetype": "text/x-python",
   "name": "python",
   "nbconvert_exporter": "python",
   "pygments_lexer": "ipython3",
   "version": "3.8.5"
  }
 },
 "nbformat": 4,
 "nbformat_minor": 4
}
